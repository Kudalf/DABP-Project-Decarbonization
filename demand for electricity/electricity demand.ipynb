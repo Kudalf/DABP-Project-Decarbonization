{
 "cells": [
  {
   "cell_type": "code",
   "execution_count": 5,
   "metadata": {},
   "outputs": [],
   "source": [
    "import pandas as pd"
   ]
  },
  {
   "cell_type": "code",
   "execution_count": 6,
   "id": "af788f5c",
   "metadata": {},
   "outputs": [
    {
     "data": {
      "text/html": [
       "<div>\n",
       "<style scoped>\n",
       "    .dataframe tbody tr th:only-of-type {\n",
       "        vertical-align: middle;\n",
       "    }\n",
       "\n",
       "    .dataframe tbody tr th {\n",
       "        vertical-align: top;\n",
       "    }\n",
       "\n",
       "    .dataframe thead th {\n",
       "        text-align: right;\n",
       "    }\n",
       "</style>\n",
       "<table border=\"1\" class=\"dataframe\">\n",
       "  <thead>\n",
       "    <tr style=\"text-align: right;\">\n",
       "      <th></th>\n",
       "      <th>year</th>\n",
       "      <th>consumption</th>\n",
       "    </tr>\n",
       "  </thead>\n",
       "  <tbody>\n",
       "    <tr>\n",
       "      <th>0</th>\n",
       "      <td>2000</td>\n",
       "      <td>2.793196e+11</td>\n",
       "    </tr>\n",
       "    <tr>\n",
       "      <th>1</th>\n",
       "      <td>2001</td>\n",
       "      <td>2.854919e+11</td>\n",
       "    </tr>\n",
       "    <tr>\n",
       "      <th>2</th>\n",
       "      <td>2002</td>\n",
       "      <td>2.909596e+11</td>\n",
       "    </tr>\n",
       "    <tr>\n",
       "      <th>3</th>\n",
       "      <td>2003</td>\n",
       "      <td>2.997886e+11</td>\n",
       "    </tr>\n",
       "    <tr>\n",
       "      <th>4</th>\n",
       "      <td>2004</td>\n",
       "      <td>3.044897e+11</td>\n",
       "    </tr>\n",
       "  </tbody>\n",
       "</table>\n",
       "</div>"
      ],
      "text/plain": [
       "   year   consumption\n",
       "0  2000  2.793196e+11\n",
       "1  2001  2.854919e+11\n",
       "2  2002  2.909596e+11\n",
       "3  2003  2.997886e+11\n",
       "4  2004  3.044897e+11"
      ]
     },
     "execution_count": 6,
     "metadata": {},
     "output_type": "execute_result"
    }
   ],
   "source": [
    "df = pd.read_excel('/Users/ZHANGRY/Codes/Notebook_Files/Decision_Analytics/DABP-Project-Decarbonization/demand for electricity/realdata.xlsx')\n",
    "df['consumption'] = df['consumption'] * (10**6) # in kwh\n",
    "df.head()"
   ]
  },
  {
   "cell_type": "code",
   "execution_count": 7,
   "id": "7366f87b",
   "metadata": {},
   "outputs": [
    {
     "data": {
      "text/html": [
       "<div>\n",
       "<style scoped>\n",
       "    .dataframe tbody tr th:only-of-type {\n",
       "        vertical-align: middle;\n",
       "    }\n",
       "\n",
       "    .dataframe tbody tr th {\n",
       "        vertical-align: top;\n",
       "    }\n",
       "\n",
       "    .dataframe thead th {\n",
       "        text-align: right;\n",
       "    }\n",
       "</style>\n",
       "<table border=\"1\" class=\"dataframe\">\n",
       "  <thead>\n",
       "    <tr style=\"text-align: right;\">\n",
       "      <th></th>\n",
       "      <th>year</th>\n",
       "      <th>consumption</th>\n",
       "    </tr>\n",
       "  </thead>\n",
       "  <tbody>\n",
       "    <tr>\n",
       "      <th>0</th>\n",
       "      <td>2000-01-01</td>\n",
       "      <td>2.793196e+11</td>\n",
       "    </tr>\n",
       "    <tr>\n",
       "      <th>1</th>\n",
       "      <td>2001-01-01</td>\n",
       "      <td>2.854919e+11</td>\n",
       "    </tr>\n",
       "    <tr>\n",
       "      <th>2</th>\n",
       "      <td>2002-01-01</td>\n",
       "      <td>2.909596e+11</td>\n",
       "    </tr>\n",
       "    <tr>\n",
       "      <th>3</th>\n",
       "      <td>2003-01-01</td>\n",
       "      <td>2.997886e+11</td>\n",
       "    </tr>\n",
       "    <tr>\n",
       "      <th>4</th>\n",
       "      <td>2004-01-01</td>\n",
       "      <td>3.044897e+11</td>\n",
       "    </tr>\n",
       "  </tbody>\n",
       "</table>\n",
       "</div>"
      ],
      "text/plain": [
       "        year   consumption\n",
       "0 2000-01-01  2.793196e+11\n",
       "1 2001-01-01  2.854919e+11\n",
       "2 2002-01-01  2.909596e+11\n",
       "3 2003-01-01  2.997886e+11\n",
       "4 2004-01-01  3.044897e+11"
      ]
     },
     "execution_count": 7,
     "metadata": {},
     "output_type": "execute_result"
    }
   ],
   "source": [
    "df['year'] = pd.to_datetime(df['year'], format='%Y')\n",
    "df.head()"
   ]
  },
  {
   "cell_type": "code",
   "execution_count": 8,
   "id": "669511ea",
   "metadata": {},
   "outputs": [
    {
     "data": {
      "text/plain": [
       "<AxesSubplot:xlabel='year', ylabel='consumption'>"
      ]
     },
     "execution_count": 8,
     "metadata": {},
     "output_type": "execute_result"
    },
    {
     "data": {
      "image/png": "[encoded data removed]",
      "text/plain": [
       "<Figure size 432x288 with 1 Axes>"
      ]
     },
     "metadata": {},
     "output_type": "display_data"
    }
   ],
   "source": [
    "import seaborn as sns\n",
    "sns.set_theme(style=\"darkgrid\")\n",
    "\n",
    "# Plot the responses for different events and region\n",
    "sns.lineplot(x=\"year\", y=\"consumption\", data=df)"
   ]
  },
  {
   "cell_type": "code",
   "execution_count": 9,
   "id": "cb2b8e01",
   "metadata": {},
   "outputs": [
    {
     "data": {
      "text/plain": [
       "0     2.793196e+11\n",
       "1     2.854919e+11\n",
       "2     2.909596e+11\n",
       "3     2.997886e+11\n",
       "4     3.044897e+11\n",
       "5     3.098168e+11\n",
       "6     3.175332e+11\n",
       "7     3.189525e+11\n",
       "8     3.190372e+11\n",
       "9     2.999152e+11\n",
       "10    3.098845e+11\n",
       "11    3.137921e+11\n",
       "12    3.072195e+11\n",
       "13    2.972876e+11\n",
       "14    2.910835e+11\n",
       "15    2.971799e+11\n",
       "16    2.955083e+11\n",
       "17    3.018805e+11\n",
       "18    3.034430e+11\n",
       "19    3.186696e+11\n",
       "20    3.012000e+11\n",
       "Name: consumption, dtype: float64"
      ]
     },
     "execution_count": 9,
     "metadata": {},
     "output_type": "execute_result"
    }
   ],
   "source": [
    "df['consumption'].dropna()"
   ]
  },
  {
   "cell_type": "code",
   "execution_count": 10,
   "id": "f2a3f1aa",
   "metadata": {},
   "outputs": [
    {
     "name": "stdout",
     "output_type": "stream",
     "text": [
      "ADF Statistic: -2.719432\n",
      "p-value: 0.070736\n",
      "Critical Values:\n",
      "\t1%: -3.809\n",
      "\t5%: -3.022\n",
      "\t10%: -2.651\n"
     ]
    }
   ],
   "source": [
    "# stationary test\n",
    "from pandas import read_csv\n",
    "from statsmodels.tsa.stattools import adfuller\n",
    "series = df['consumption'].dropna()\n",
    "X = series.values\n",
    "result = adfuller(X)\n",
    "print('ADF Statistic: %f' % result[0])\n",
    "print('p-value: %f' % result[1])\n",
    "print('Critical Values:')\n",
    "for key, value in result[4].items():\n",
    " print('\\t%s: %.3f' % (key, value))\n"
   ]
  },
  {
   "cell_type": "markdown",
   "id": "e3ba9cbd",
   "metadata": {},
   "source": [
    "Using Augmented Dickey-Fuller test, cannot Reject the null hypothesis (H0), the data has a unit root and is stationary.\n",
    "Reference:\n",
    "https://www.statsmodels.org/dev/generated/statsmodels.tsa.stattools.adfuller.html"
   ]
  },
  {
   "cell_type": "code",
   "execution_count": 11,
   "id": "18bbff90",
   "metadata": {},
   "outputs": [
    {
     "data": {
      "text/plain": [
       "1     6.172300e+09\n",
       "2     5.467700e+09\n",
       "3     8.829000e+09\n",
       "4     4.701100e+09\n",
       "5     5.327100e+09\n",
       "6     7.716400e+09\n",
       "7     1.419300e+09\n",
       "8     8.470000e+07\n",
       "9    -1.912200e+10\n",
       "10    9.969300e+09\n",
       "11    3.907600e+09\n",
       "12   -6.572600e+09\n",
       "13   -9.931900e+09\n",
       "14   -6.204100e+09\n",
       "15    6.096400e+09\n",
       "16   -1.671600e+09\n",
       "17    6.372200e+09\n",
       "18    1.562500e+09\n",
       "19    1.522660e+10\n",
       "20   -1.746960e+10\n",
       "Name: consumption, dtype: float64"
      ]
     },
     "execution_count": 11,
     "metadata": {},
     "output_type": "execute_result"
    }
   ],
   "source": [
    "df1 = df['consumption'].diff().dropna()\n",
    "df1"
   ]
  },
  {
   "cell_type": "code",
   "execution_count": 12,
   "id": "22f62083",
   "metadata": {},
   "outputs": [
    {
     "data": {
      "image/png": "[encoded data removed]",
      "text/plain": [
       "<Figure size 864x576 with 2 Axes>"
      ]
     },
     "metadata": {},
     "output_type": "display_data"
    }
   ],
   "source": [
    "# arima for prediction\n",
    "import statsmodels.api as sm\n",
    "import matplotlib.pyplot as plt\n",
    "fig = plt.figure(figsize=(12,8)) \n",
    "ax1=fig.add_subplot(212) \n",
    "fig = sm.graphics.tsa.plot_acf(df1,lags = 9,ax=ax1) \n",
    "ax2 = fig.add_subplot(211) \n",
    "fig = sm.graphics.tsa.plot_pacf(df1,lags = 9, ax=ax2, method='ywm')\n"
   ]
  },
  {
   "cell_type": "markdown",
   "id": "e7d1c0b2",
   "metadata": {},
   "source": [
    "From partial autocorrelation: set p = 0\n",
    "\n",
    "From autocorrelation: set q = 0"
   ]
  },
  {
   "cell_type": "code",
   "execution_count": 13,
   "id": "7d25cd0e",
   "metadata": {},
   "outputs": [
    {
     "ename": "NameError",
     "evalue": "name 'ARIMA' is not defined",
     "output_type": "error",
     "traceback": [
      "\u001b[0;31m---------------------------------------------------------------------------\u001b[0m",
      "\u001b[0;31mNameError\u001b[0m                                 Traceback (most recent call last)",
      "\u001b[1;32m/Users/ZHANGRY/Codes/Notebook_Files/Decision_Analytics/DABP-Project-Decarbonization/demand for electricity/electricity demand.ipynb Cell 11\u001b[0m in \u001b[0;36m<cell line: 2>\u001b[0;34m()\u001b[0m\n\u001b[1;32m      <a href='vscode-notebook-cell:/Users/ZHANGRY/Codes/Notebook_Files/Decision_Analytics/DABP-Project-Decarbonization/demand%20for%20electricity/electricity%20demand.ipynb#X13sZmlsZQ%3D%3D?line=0'>1</a>\u001b[0m \u001b[39m# set p = 0, d = 1, q = 0\u001b[39;00m\n\u001b[0;32m----> <a href='vscode-notebook-cell:/Users/ZHANGRY/Codes/Notebook_Files/Decision_Analytics/DABP-Project-Decarbonization/demand%20for%20electricity/electricity%20demand.ipynb#X13sZmlsZQ%3D%3D?line=1'>2</a>\u001b[0m model \u001b[39m=\u001b[39m ARIMA(df[\u001b[39m'\u001b[39m\u001b[39mconsumption\u001b[39m\u001b[39m'\u001b[39m]\u001b[39m.\u001b[39mdropna(), order \u001b[39m=\u001b[39m (\u001b[39m0\u001b[39m, \u001b[39m1\u001b[39m, \u001b[39m0\u001b[39m))\n\u001b[1;32m      <a href='vscode-notebook-cell:/Users/ZHANGRY/Codes/Notebook_Files/Decision_Analytics/DABP-Project-Decarbonization/demand%20for%20electricity/electricity%20demand.ipynb#X13sZmlsZQ%3D%3D?line=2'>3</a>\u001b[0m fitted \u001b[39m=\u001b[39m model\u001b[39m.\u001b[39mfit()\n\u001b[1;32m      <a href='vscode-notebook-cell:/Users/ZHANGRY/Codes/Notebook_Files/Decision_Analytics/DABP-Project-Decarbonization/demand%20for%20electricity/electricity%20demand.ipynb#X13sZmlsZQ%3D%3D?line=3'>4</a>\u001b[0m fitted\u001b[39m.\u001b[39msummary()\n",
      "\u001b[0;31mNameError\u001b[0m: name 'ARIMA' is not defined"
     ]
    }
   ],
   "source": [
    "# set p = 0, d = 1, q = 0\n",
    "model = ARIMA(df['consumption'].dropna(), order = (0, 1, 0))\n",
    "fitted = model.fit()\n",
    "fitted.summary()"
   ]
  },
  {
   "cell_type": "code",
   "execution_count": null,
   "id": "235c1606",
   "metadata": {},
   "outputs": [],
   "source": [
    "# Actual vs Fitted\n",
    "from statsmodels.graphics.tsaplots import plot_predict\n",
    "plot_predict(fitted, dynamic=False)\n",
    "plt.show()"
   ]
  },
  {
   "cell_type": "code",
   "execution_count": null,
   "id": "88533f24",
   "metadata": {},
   "outputs": [],
   "source": [
    "predict = fitted.predict(start = 21, end = 95, dynamic = False)\n",
    "df_preidct = pd.DataFrame(predict)\n",
    "df_complete = pd.concat([df, df_preidct], axis = 1)\n",
    "df_complete.set_index(\"year\", inplace = True)\n",
    "df_complete"
   ]
  },
  {
   "cell_type": "code",
   "execution_count": null,
   "id": "03f54842",
   "metadata": {},
   "outputs": [],
   "source": [
    "df_complete = df_complete.rename(columns = {'consumption':'Actual Demand', 'predicted_mean':'Predict Demand'})\n",
    "g = sns.lineplot(data = df_complete, \n",
    "    markers=True, dashes=False)\n",
    "g.set(ylim=(1*10**11, 4*10**11))\n",
    "sns.set(rc={'figure.figsize':(12,9)})\n",
    "g"
   ]
  },
  {
   "cell_type": "code",
   "execution_count": null,
   "id": "46129054",
   "metadata": {},
   "outputs": [],
   "source": [
    "predict = df_complete['Predict Demand'].tail(75)\n",
    "predict.to_csv('demand_prediction_arima.csv')"
   ]
  },
  {
   "cell_type": "markdown",
   "id": "03b7dc95",
   "metadata": {},
   "source": [
    "# Smoothing"
   ]
  },
  {
   "cell_type": "code",
   "execution_count": null,
   "id": "77f621f8",
   "metadata": {},
   "outputs": [],
   "source": [
    "import os\n",
    "import numpy as np\n",
    "import pandas as pd\n",
    "import matplotlib.pyplot as plt\n",
    "from statsmodels.tsa.api import ExponentialSmoothing, SimpleExpSmoothing, Holt\n",
    "\n",
    "oildata = df_data.copy()\n",
    "fit1 = SimpleExpSmoothing(oildata, initialization_method=\"heuristic\").fit(\n",
    "    smoothing_level=0.2, optimized=False\n",
    ")\n",
    "fcast1 = fit1.forecast(3).rename(r\"$\\alpha=0.2$\")\n",
    "fit2 = SimpleExpSmoothing(oildata, initialization_method=\"heuristic\").fit(\n",
    "    smoothing_level=0.6, optimized=False\n",
    ")\n",
    "fcast2 = fit2.forecast(3).rename(r\"$\\alpha=0.6$\")\n",
    "fit3 = SimpleExpSmoothing(oildata, initialization_method=\"estimated\").fit()\n",
    "fcast3 = fit3.forecast(3).rename(r\"$\\alpha=%s$\" % fit3.model.params[\"smoothing_level\"])\n",
    "\n",
    "plt.figure(figsize=(12, 8))\n",
    "plt.plot(oildata, marker=\"o\", color=\"black\")\n",
    "plt.plot(fit1.fittedvalues, marker=\"o\", color=\"blue\")\n",
    "(line1,) = plt.plot(fcast1, marker=\"o\", color=\"blue\")\n",
    "plt.plot(fit2.fittedvalues, marker=\"o\", color=\"red\")\n",
    "(line2,) = plt.plot(fcast2, marker=\"o\", color=\"red\")\n",
    "plt.plot(fit3.fittedvalues, marker=\"o\", color=\"green\")\n",
    "(line3,) = plt.plot(fcast3, marker=\"o\", color=\"green\")\n",
    "plt.legend([line1, line2, line3], [fcast1.name, fcast2.name, fcast3.name])"
   ]
  },
  {
   "cell_type": "code",
   "execution_count": null,
   "id": "029bf1d1",
   "metadata": {},
   "outputs": [],
   "source": [
    "import os\n",
    "import numpy as np\n",
    "import pandas as pd\n",
    "import matplotlib.pyplot as plt\n",
    "from statsmodels.tsa.api import ExponentialSmoothing, SimpleExpSmoothing, Holt\n",
    "\n",
    "air = df_data.dropna().copy()\n",
    "fit0 = SimpleExpSmoothing(air, initialization_method=\"estimated\").fit()\n",
    "fcast0 = fit0.forecast(75).rename(\"SES\")\n",
    "# fit1 = Holt(air, initialization_method=\"estimated\").fit()\n",
    "# fcast1 = fit1.forecast(75).rename(\"Holt's linear trend\")\n",
    "# # fit2 = Holt(air, exponential=True, initialization_method=\"estimated\").fit()\n",
    "# # fcast2 = fit2.forecast(75).rename(\"Exponential trend\")\n",
    "# fit3 = Holt(air, damped_trend=True, initialization_method=\"estimated\").fit()\n",
    "# fcast3 = fit3.forecast(75).rename(\"Additive damped trend\")\n",
    "\n",
    "plt.figure(figsize=(12, 8))\n",
    "plt.plot(air, marker=\"o\", color=\"black\")\n",
    "plt.plot(fit1.fittedvalues, color=\"red\")\n",
    "(line1,) = plt.plot(fcast0, marker=\"o\", color=\"red\")\n",
    "# plt.plot(fit2.fittedvalues, color=\"red\")\n",
    "# (line2,) = plt.plot(fcast1, marker=\"o\", color=\"red\")\n",
    "# plt.plot(fit3.fittedvalues, color=\"green\")\n",
    "# (line3,) = plt.plot(fcast3, marker=\"o\", color=\"green\")\n",
    "# plt.legend([line1, line2, line3], [fcast0.name, fcast1.name, fcast3.name])\n",
    "plt.legend([line1], [fcast0.name])\n",
    "\n",
    "\n"
   ]
  },
  {
   "cell_type": "code",
   "execution_count": null,
   "id": "fe256eb0",
   "metadata": {},
   "outputs": [],
   "source": [
    "fcast0.to_csv(\"demand_prediction_ses.csv\")"
   ]
  },
  {
   "cell_type": "markdown",
   "id": "56ddc159",
   "metadata": {},
   "source": [
    "References:\n",
    "https://www.statsmodels.org/dev/examples/notebooks/generated/exponential_smoothing.html\n",
    "\n",
    "https://www.machinelearningplus.com/time-series/arima-model-time-series-forecasting-python/\n",
    "\n",
    "https://www.statista.com/statistics/799638/total-electricity-consumption-in-italy/\n",
    "\n",
    "https://www.statsmodels.org/v0.12.0/generated/statsmodels.tsa.arima_model.ARIMA.predict.html\n",
    "\n",
    "\n"
   ]
  }
 ],
 "metadata": {
  "kernelspec": {
   "display_name": "Python 3.9.12",
   "language": "python",
   "name": "python3"
  },
  "language_info": {
   "codemirror_mode": {
    "name": "ipython",
    "version": 3
   },
   "file_extension": ".py",
   "mimetype": "text/x-python",
   "name": "python",
   "nbconvert_exporter": "python",
   "pygments_lexer": "ipython3",
   "version": "3.9.12"
  },
  "vscode": {
   "interpreter": {
    "hash": "38cca0c38332a56087b24af0bc80247f4fced29cb4f7f437d91dc159adec9c4e"
   }
  }
 },
 "nbformat": 4,
 "nbformat_minor": 5
}
