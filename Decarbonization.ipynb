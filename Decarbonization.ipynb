{
 "cells": [
  {
   "cell_type": "markdown",
   "metadata": {},
   "source": [
    "# Decarbonization Projcet\n"
   ]
  },
  {
   "cell_type": "code",
   "execution_count": null,
   "metadata": {},
   "outputs": [],
   "source": []
  },
  {
   "cell_type": "markdown",
   "metadata": {},
   "source": [
    "# Model Implementation"
   ]
  },
  {
   "cell_type": "markdown",
   "metadata": {},
   "source": [
    "#### Preparations"
   ]
  },
  {
   "cell_type": "markdown",
   "metadata": {},
   "source": [
    "Import packages"
   ]
  },
  {
   "cell_type": "code",
   "execution_count": 1,
   "metadata": {},
   "outputs": [],
   "source": [
    "import gurobipy as GRB\n",
    "import numpy as np\n",
    "import pandas as pd\n",
    "import seaborn as sns\n",
    "from matplotlib import pyplot as plt"
   ]
  },
  {
   "cell_type": "markdown",
   "metadata": {},
   "source": [
    "Load parameters\n"
   ]
  },
  {
   "cell_type": "code",
   "execution_count": 13,
   "metadata": {},
   "outputs": [
    {
     "data": {
      "text/html": [
       "<div>\n",
       "<style scoped>\n",
       "    .dataframe tbody tr th:only-of-type {\n",
       "        vertical-align: middle;\n",
       "    }\n",
       "\n",
       "    .dataframe tbody tr th {\n",
       "        vertical-align: top;\n",
       "    }\n",
       "\n",
       "    .dataframe thead th {\n",
       "        text-align: right;\n",
       "    }\n",
       "</style>\n",
       "<table border=\"1\" class=\"dataframe\">\n",
       "  <thead>\n",
       "    <tr style=\"text-align: right;\">\n",
       "      <th></th>\n",
       "      <th>source</th>\n",
       "      <th>number</th>\n",
       "      <th>fixed_cost(dollar_kW)</th>\n",
       "      <th>operating_cost(dollar_kWh)</th>\n",
       "      <th>revenues(dollor_kWh)</th>\n",
       "      <th>co2(pounds_kWh)</th>\n",
       "      <th>capacity</th>\n",
       "      <th>generation</th>\n",
       "      <th>capacity %</th>\n",
       "      <th>generation %</th>\n",
       "    </tr>\n",
       "  </thead>\n",
       "  <tbody>\n",
       "    <tr>\n",
       "      <th>0</th>\n",
       "      <td>coal</td>\n",
       "      <td>8</td>\n",
       "      <td>750</td>\n",
       "      <td>0.030</td>\n",
       "      <td>0.32</td>\n",
       "      <td>2.26</td>\n",
       "      <td>60.276684</td>\n",
       "      <td>13.8012</td>\n",
       "      <td>0.079</td>\n",
       "      <td>0.062</td>\n",
       "    </tr>\n",
       "    <tr>\n",
       "      <th>1</th>\n",
       "      <td>natural gas</td>\n",
       "      <td>48</td>\n",
       "      <td>600</td>\n",
       "      <td>0.070</td>\n",
       "      <td>0.32</td>\n",
       "      <td>0.97</td>\n",
       "      <td>103.004460</td>\n",
       "      <td>22.7052</td>\n",
       "      <td>0.135</td>\n",
       "      <td>0.102</td>\n",
       "    </tr>\n",
       "    <tr>\n",
       "      <th>2</th>\n",
       "      <td>CCGT</td>\n",
       "      <td>23</td>\n",
       "      <td>900</td>\n",
       "      <td>0.070</td>\n",
       "      <td>0.32</td>\n",
       "      <td>0.77</td>\n",
       "      <td>131.998308</td>\n",
       "      <td>51.6432</td>\n",
       "      <td>0.173</td>\n",
       "      <td>0.232</td>\n",
       "    </tr>\n",
       "    <tr>\n",
       "      <th>3</th>\n",
       "      <td>nuclear</td>\n",
       "      <td>4</td>\n",
       "      <td>3100</td>\n",
       "      <td>0.035</td>\n",
       "      <td>0.32</td>\n",
       "      <td>0.00</td>\n",
       "      <td>28.993848</td>\n",
       "      <td>25.5990</td>\n",
       "      <td>0.038</td>\n",
       "      <td>0.115</td>\n",
       "    </tr>\n",
       "    <tr>\n",
       "      <th>4</th>\n",
       "      <td>hydro</td>\n",
       "      <td>739</td>\n",
       "      <td>3100</td>\n",
       "      <td>0.010</td>\n",
       "      <td>0.32</td>\n",
       "      <td>0.00</td>\n",
       "      <td>244.158720</td>\n",
       "      <td>56.9856</td>\n",
       "      <td>0.320</td>\n",
       "      <td>0.256</td>\n",
       "    </tr>\n",
       "    <tr>\n",
       "      <th>5</th>\n",
       "      <td>wind</td>\n",
       "      <td>256</td>\n",
       "      <td>3100</td>\n",
       "      <td>0.010</td>\n",
       "      <td>0.32</td>\n",
       "      <td>0.00</td>\n",
       "      <td>130.472316</td>\n",
       "      <td>37.8420</td>\n",
       "      <td>0.171</td>\n",
       "      <td>0.170</td>\n",
       "    </tr>\n",
       "    <tr>\n",
       "      <th>6</th>\n",
       "      <td>solar</td>\n",
       "      <td>141</td>\n",
       "      <td>4500</td>\n",
       "      <td>0.010</td>\n",
       "      <td>0.32</td>\n",
       "      <td>0.00</td>\n",
       "      <td>55.698708</td>\n",
       "      <td>7.7910</td>\n",
       "      <td>0.073</td>\n",
       "      <td>0.035</td>\n",
       "    </tr>\n",
       "  </tbody>\n",
       "</table>\n",
       "</div>"
      ],
      "text/plain": [
       "        source  number  fixed_cost(dollar_kW)  operating_cost(dollar_kWh)  \\\n",
       "0         coal       8                    750                       0.030   \n",
       "1  natural gas      48                    600                       0.070   \n",
       "2         CCGT      23                    900                       0.070   \n",
       "3      nuclear       4                   3100                       0.035   \n",
       "4        hydro     739                   3100                       0.010   \n",
       "5         wind     256                   3100                       0.010   \n",
       "6        solar     141                   4500                       0.010   \n",
       "\n",
       "   revenues(dollor_kWh)  co2(pounds_kWh)    capacity  generation  capacity %  \\\n",
       "0                  0.32             2.26   60.276684     13.8012       0.079   \n",
       "1                  0.32             0.97  103.004460     22.7052       0.135   \n",
       "2                  0.32             0.77  131.998308     51.6432       0.173   \n",
       "3                  0.32             0.00   28.993848     25.5990       0.038   \n",
       "4                  0.32             0.00  244.158720     56.9856       0.320   \n",
       "5                  0.32             0.00  130.472316     37.8420       0.171   \n",
       "6                  0.32             0.00   55.698708      7.7910       0.073   \n",
       "\n",
       "   generation %  \n",
       "0         0.062  \n",
       "1         0.102  \n",
       "2         0.232  \n",
       "3         0.115  \n",
       "4         0.256  \n",
       "5         0.170  \n",
       "6         0.035  "
      ]
     },
     "execution_count": 13,
     "metadata": {},
     "output_type": "execute_result"
    }
   ],
   "source": [
    "parameters = pd.read_excel(\"data.xlsx\")\n",
    "parameters"
   ]
  },
  {
   "cell_type": "code",
   "execution_count": 15,
   "metadata": {},
   "outputs": [
    {
     "data": {
      "text/html": [
       "<div>\n",
       "<style scoped>\n",
       "    .dataframe tbody tr th:only-of-type {\n",
       "        vertical-align: middle;\n",
       "    }\n",
       "\n",
       "    .dataframe tbody tr th {\n",
       "        vertical-align: top;\n",
       "    }\n",
       "\n",
       "    .dataframe thead th {\n",
       "        text-align: right;\n",
       "    }\n",
       "</style>\n",
       "<table border=\"1\" class=\"dataframe\">\n",
       "  <thead>\n",
       "    <tr style=\"text-align: right;\">\n",
       "      <th></th>\n",
       "      <th>number</th>\n",
       "    </tr>\n",
       "  </thead>\n",
       "  <tbody>\n",
       "    <tr>\n",
       "      <th>0</th>\n",
       "      <td>8</td>\n",
       "    </tr>\n",
       "    <tr>\n",
       "      <th>1</th>\n",
       "      <td>48</td>\n",
       "    </tr>\n",
       "    <tr>\n",
       "      <th>2</th>\n",
       "      <td>23</td>\n",
       "    </tr>\n",
       "    <tr>\n",
       "      <th>3</th>\n",
       "      <td>4</td>\n",
       "    </tr>\n",
       "    <tr>\n",
       "      <th>4</th>\n",
       "      <td>739</td>\n",
       "    </tr>\n",
       "    <tr>\n",
       "      <th>5</th>\n",
       "      <td>256</td>\n",
       "    </tr>\n",
       "    <tr>\n",
       "      <th>6</th>\n",
       "      <td>141</td>\n",
       "    </tr>\n",
       "  </tbody>\n",
       "</table>\n",
       "</div>"
      ],
      "text/plain": [
       "   number\n",
       "0       8\n",
       "1      48\n",
       "2      23\n",
       "3       4\n",
       "4     739\n",
       "5     256\n",
       "6     141"
      ]
     },
     "execution_count": 15,
     "metadata": {},
     "output_type": "execute_result"
    }
   ],
   "source": [
    "parameters[[\"number\"]]"
   ]
  },
  {
   "cell_type": "code",
   "execution_count": 7,
   "metadata": {},
   "outputs": [
    {
     "name": "stdout",
     "output_type": "stream",
     "text": [
      "Shape of unit emission: (7,)\n"
     ]
    }
   ],
   "source": [
    "# product_material = np.genfromtxt(\"F:\\Learning\\DABP\\Assignment 1\\Pb1_requirements.csv\", dtype=float, delimiter=',', encoding='utf-8-sig')\n",
    "# print(\"Shape: of product material\", product_material.shape)\n",
    "# resource = np.genfromtxt(\"F:\\Learning\\DABP\\Assignment 1\\Pb1_availability.csv\", dtype=float, delimiter=',', encoding='utf-8-sig')\n",
    "# print(\"Shape: of resource\", resource.shape)\n",
    "# demand = np.genfromtxt(\"F:\\Learning\\DABP\\Assignment 1\\Pb1_demand.csv\", dtype=float, delimiter=',', encoding='utf-8-sig')\n",
    "# print(\"Shape: of demand\", demand.shape)\n",
    "# cost = np.genfromtxt(\"F:\\Learning\\DABP\\Assignment 1\\Pb1_holdingcost.csv\", dtype=float, delimiter=',', encoding='utf-8-sig')\n",
    "# print(\"Shape: of cost\", cost.shape)\n",
    "# unit_profit = np.genfromtxt(\"F:\\Learning\\DABP\\Assignment 1\\Pb1_unitprofit.csv\", dtype=float, delimiter=',', encoding='utf-8-sig')\n",
    "# print(\"Shape: of profit\", unit_profit.shape)\n",
    "unit_emission = np.arange(7)\n",
    "print(\"Shape of unit emission:\", unit_emission.shape)\n",
    "unit_cost = np.arange(7)\n",
    "fixed_cost = np.arange(7)\n",
    "yearly_demand = np.arange(10)\n",
    "unit_price = 10\n",
    "capacity = np.array(parameters[[\"capacity\"]])\n",
    "num_plant_start = np.array(parameters[[\"number\"]]) # number of plants at year 0\n",
    "budget_start = 9080 # million of euros"
   ]
  },
  {
   "cell_type": "markdown",
   "metadata": {},
   "source": [
    "Set up index sets"
   ]
  },
  {
   "cell_type": "code",
   "execution_count": 8,
   "metadata": {},
   "outputs": [],
   "source": [
    "years = range(yearly_demand.shape[0])  # 10\n",
    "sources = range(unit_emission.shape[0])  # 7"
   ]
  },
  {
   "cell_type": "markdown",
   "metadata": {},
   "source": [
    "#### Set up model"
   ]
  },
  {
   "cell_type": "code",
   "execution_count": 9,
   "metadata": {},
   "outputs": [],
   "source": [
    "m = GRB.Model()"
   ]
  },
  {
   "cell_type": "markdown",
   "metadata": {},
   "source": [
    "Decision variables"
   ]
  },
  {
   "cell_type": "code",
   "execution_count": 11,
   "metadata": {},
   "outputs": [],
   "source": [
    "dv_num_plant = m.addVars(sources, years, vtype=GRB.INTEGER)  # 7*10\n",
    "dv_change_plant = m.addVars(sources, years, vtype=GRB.INTEGER)  # 7*10\n",
    "dv_yearly_budget = m.addVars(years) # 10"
   ]
  },
  {
   "cell_type": "markdown",
   "metadata": {},
   "source": [
    "Objective function"
   ]
  },
  {
   "cell_type": "code",
   "execution_count": null,
   "metadata": {},
   "outputs": [],
   "source": [
    "# Primary Objective: carbon at year 10, set negative in accordance with the MAXIMIZE model sense\n",
    "m.setObjectiveN(-sum(unit_emission[j] * capacity[j] * dv_num_plant[j] for j in sources), index=0, priority=10)\n",
    "# Objective 2: total profit = revenue - fixed cost - operating cost\n",
    "sum_revenue = sum(capacity[j]*dv_num_plant[j, i]*unit_price for j in sources for i in years)\n",
    "sum_fixed_cost = sum(fixed_cost[j]*dv_change_plant[j, i] for j in sources for i in years)\n",
    "sum_operating_cost = sum(unit_cost[j]*dv_num_plant[j, i]*capacity[j] for j in sources for i in years)\n",
    "m.setObjectiveN(sum_revenue + sum_fixed_cost + sum_operating_cost, index=1, priority=5)\n",
    "m.modelSense = GRB.MAXIMIZE"
   ]
  },
  {
   "cell_type": "markdown",
   "metadata": {},
   "source": [
    "Constraints"
   ]
  },
  {
   "cell_type": "code",
   "execution_count": null,
   "metadata": {},
   "outputs": [],
   "source": [
    "# Definition of S = s0 + sum(x)\n",
    "for i in years:\n",
    "    for j in sources:\n",
    "        m.addConstr(dv_num_plant = num_plant_start[j] + sum(dv_change_plant[k] for k in range(0, i)), name=\"Definition of state for source {} year {}\".format(j, i))\n",
    "\n",
    "# Budget Definition\n",
    "for i in years:\n",
    "    if i == 0:\n",
    "        m.addConstr(dv_yearly_budget <= budget_start)\n",
    "    else:\n",
    "        profit_prev_year = sum(capacity[j]*dv_num_plant[j, i-1]*unit_price for j in sources)\n",
    "        m.addConstr(dv_yearly_budget <= profit_prev_year)\n",
    "\n",
    "# Budget\n",
    "for i in years:\n",
    "    # fixed + operating cost\n",
    "    yearly_cost = sum(fixed_cost[j]*dv_change_plant[j, i] + unit_cost[j]*dv_num_plant[j, i]*capacity[j] for j in sources)\n",
    "    m.addVar(yearly_cost <= dv_yearly_budget[i])\n",
    "\n",
    "# Demand\n",
    "for i in years:\n",
    "    m.addConstr(sum(capacity[j] * dv_num_plant[j, i] for j in sources) >= yearly_demand[i])\n"
   ]
  },
  {
   "cell_type": "markdown",
   "metadata": {},
   "source": [
    "#### Solve the model"
   ]
  },
  {
   "cell_type": "code",
   "execution_count": null,
   "metadata": {},
   "outputs": [
    {
     "name": "stdout",
     "output_type": "stream",
     "text": [
      "Gurobi Optimizer version 9.5.2 build v9.5.2rc0 (win64)\n",
      "Thread count: 4 physical cores, 8 logical processors, using up to 8 threads\n",
      "Optimize a model with 26520 rows, 15600 columns and 61260 nonzeros\n",
      "Model fingerprint: 0x57c59e8f\n",
      "Coefficient statistics:\n",
      "  Matrix range     [1e+00, 8e+01]\n",
      "  Objective range  [7e-02, 2e+02]\n",
      "  Bounds range     [0e+00, 0e+00]\n",
      "  RHS range        [6e+00, 7e+04]\n",
      "\n",
      "Concurrent LP optimizer: dual simplex and barrier\n",
      "Showing barrier log only...\n",
      "\n",
      "Presolve removed 21002 rows and 410 columns\n",
      "Presolve time: 0.07s\n",
      "Presolved: 5518 rows, 15190 columns, 40132 nonzeros\n",
      "\n",
      "Ordering time: 0.13s\n",
      "\n",
      "Barrier statistics:\n",
      " AA' NZ     : 2.700e+04\n",
      " Factor NZ  : 2.543e+05 (roughly 10 MB of memory)\n",
      " Factor Ops : 3.066e+07 (less than 1 second per iteration)\n",
      " Threads    : 3\n",
      "\n",
      "                  Objective                Residual\n",
      "Iter       Primal          Dual         Primal    Dual     Compl     Time\n",
      "   0   3.36958113e+08  4.13350654e+08  7.48e+04 4.32e+01  2.35e+05     0s\n",
      "   1   8.73254128e+07  3.22906628e+08  1.96e+04 1.05e+01  5.48e+04     0s\n",
      "   2   2.32975123e+07  1.42192710e+08  2.86e+03 1.56e-13  9.87e+03     0s\n",
      "   3   2.22106669e+07  6.73533561e+07  1.18e+03 1.03e-13  3.17e+03     0s\n",
      "   4   2.56744888e+07  5.33338066e+07  6.80e+02 7.64e-14  1.79e+03     0s\n",
      "   5   2.66881912e+07  4.71646250e+07  5.56e+02 5.24e-14  1.31e+03     0s\n",
      "   6   2.79082568e+07  4.57455097e+07  4.33e+02 4.62e-14  1.10e+03     0s\n",
      "   7   3.03362048e+07  4.09212551e+07  2.38e+02 1.71e-13  6.28e+02     0s\n",
      "   8   3.20676958e+07  3.86913649e+07  1.47e+02 1.28e-13  3.87e+02     0s\n",
      "   9   3.30967169e+07  3.76847047e+07  9.97e+01 3.56e-14  2.65e+02     0s\n",
      "  10   3.34668930e+07  3.71126355e+07  8.51e+01 4.97e-14  2.12e+02     0s\n",
      "  11   3.41795156e+07  3.66984697e+07  5.75e+01 2.84e-14  1.46e+02     0s\n",
      "  12   3.45704284e+07  3.63139056e+07  4.40e+01 3.55e-14  1.02e+02     0s\n",
      "  13   3.52401757e+07  3.61007768e+07  2.11e+01 2.99e-14  5.01e+01     0s\n",
      "  14   3.55402614e+07  3.60118878e+07  1.15e+01 6.39e-14  2.74e+01     0s\n",
      "  15   3.57071142e+07  3.59846286e+07  6.43e+00 4.26e-14  1.60e+01     0s\n",
      "  16   3.57761640e+07  3.59680587e+07  4.40e+00 2.50e-14  1.10e+01     0s\n",
      "  17   3.58553853e+07  3.59558980e+07  2.12e+00 3.44e-14  5.71e+00     0s\n",
      "  18   3.58923171e+07  3.59437669e+07  1.11e+00 2.84e-14  2.93e+00     0s\n",
      "  19   3.59132926e+07  3.59392877e+07  5.74e-01 2.93e-14  1.49e+00     0s\n",
      "  20   3.59275418e+07  3.59376870e+07  2.03e-01 3.36e-14  5.72e-01     1s\n",
      "  21   3.59327600e+07  3.59368810e+07  7.09e-02 2.69e-14  2.28e-01     1s\n",
      "  22   3.59347038e+07  3.59363710e+07  2.62e-02 2.84e-14  9.11e-02     1s\n",
      "  23   3.59359223e+07  3.59360806e+07  1.39e-03 3.64e-14  8.22e-03     1s\n",
      "  24   3.59360296e+07  3.59360367e+07  7.15e-10 3.41e-14  3.42e-04     1s\n",
      "  25   3.59360313e+07  3.59360316e+07  5.22e-10 2.92e-14  1.09e-05     1s\n",
      "  26   3.59360314e+07  3.59360314e+07  2.19e-08 3.18e-14  9.01e-07     1s\n",
      "  27   3.59360314e+07  3.59360314e+07  5.29e-08 5.68e-14  5.96e-10     1s\n",
      "\n",
      "Barrier solved model in 27 iterations and 0.59 seconds (0.21 work units)\n",
      "Optimal objective 3.59360314e+07\n",
      "\n",
      "Crossover log...\n",
      "\n",
      "    3915 DPushes remaining with DInf 0.0000000e+00                 1s\n",
      "       0 DPushes remaining with DInf 0.0000000e+00                 1s\n",
      "\n",
      "       2 PPushes remaining with PInf 0.0000000e+00                 1s\n",
      "       0 PPushes remaining with PInf 0.0000000e+00                 1s\n",
      "\n",
      "  Push phase complete: Pinf 0.0000000e+00, Dinf 3.7836401e-12      1s\n",
      "\n",
      "Iteration    Objective       Primal Inf.    Dual Inf.      Time\n",
      "    3920    3.5936031e+07   0.000000e+00   0.000000e+00      1s\n",
      "\n",
      "Solved with barrier\n",
      "Solved in 3920 iterations and 0.67 seconds (0.22 work units)\n",
      "Optimal objective  3.593603140e+07\n"
     ]
    }
   ],
   "source": [
    "# Solve\n",
    "m.optimize()"
   ]
  },
  {
   "cell_type": "markdown",
   "metadata": {},
   "source": [
    "It takes 0.67 seconds to solve the model."
   ]
  },
  {
   "cell_type": "code",
   "execution_count": null,
   "metadata": {},
   "outputs": [
    {
     "name": "stdout",
     "output_type": "stream",
     "text": [
      "Optimal net profit is  35936031.39872105\n",
      "      Week  Product     Produce        Sell  Inventory\n",
      "0        1        1  286.700000  286.700000        0.0\n",
      "1        1        2    0.000000    0.000000        0.0\n",
      "2        1        3    0.000000    0.000000        0.0\n",
      "3        1        4    0.000000    0.000000        0.0\n",
      "4        1        5   38.963021   38.963021        0.0\n",
      "...    ...      ...         ...         ...        ...\n",
      "5195    52       96    0.000000    0.000000        0.0\n",
      "5196    52       97    0.000000    0.000000        0.0\n",
      "5197    52       98   54.837246   54.837246        0.0\n",
      "5198    52       99    0.000000    0.000000        0.0\n",
      "5199    52      100  337.830000  337.830000        0.0\n",
      "\n",
      "[5200 rows x 5 columns]\n"
     ]
    }
   ],
   "source": [
    "# Print optimal cost\n",
    "print(\"Optimal net profit is \", m.objVal)\n",
    "\n",
    "df_dv = pd.DataFrame({'Week': j + 1, 'Product': i + 1, 'Produce': dv_produce[i, j].x, 'Sell': dv_sell[i, j].x, \"Inventory\": dv_inventory[i, j].x} for j in weeks for i in products)\n",
    "print(df_dv)     "
   ]
  }
 ],
 "metadata": {
  "kernelspec": {
   "display_name": "Python 3.9.12 ('base')",
   "language": "python",
   "name": "python3"
  },
  "language_info": {
   "codemirror_mode": {
    "name": "ipython",
    "version": 3
   },
   "file_extension": ".py",
   "mimetype": "text/x-python",
   "name": "python",
   "nbconvert_exporter": "python",
   "pygments_lexer": "ipython3",
   "version": "3.9.12"
  },
  "orig_nbformat": 4,
  "vscode": {
   "interpreter": {
    "hash": "16f5b46f222e2a3e8d4adbf7141cae37b71ed37616e60735fa5d1164a1bc3ada"
   }
  }
 },
 "nbformat": 4,
 "nbformat_minor": 2
}
