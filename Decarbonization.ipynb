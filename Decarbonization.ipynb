{
 "cells": [
  {
   "cell_type": "markdown",
   "metadata": {},
   "source": [
    "# Decarbonization Projcet\n"
   ]
  },
  {
   "cell_type": "code",
   "execution_count": null,
   "metadata": {},
   "outputs": [],
   "source": []
  },
  {
   "cell_type": "markdown",
   "metadata": {},
   "source": [
    "# Model Implementation"
   ]
  },
  {
   "cell_type": "markdown",
   "metadata": {},
   "source": [
    "#### Preparations"
   ]
  },
  {
   "cell_type": "markdown",
   "metadata": {},
   "source": [
    "Import packages"
   ]
  },
  {
   "cell_type": "code",
   "execution_count": 166,
   "metadata": {},
   "outputs": [],
   "source": [
    "from gurobipy import *\n",
    "import numpy as np\n",
    "import pandas as pd\n",
    "import seaborn as sns\n",
    "from matplotlib import pyplot as plt"
   ]
  },
  {
   "cell_type": "markdown",
   "metadata": {},
   "source": [
    "Load parameters\n"
   ]
  },
  {
   "cell_type": "code",
   "execution_count": 167,
   "metadata": {},
   "outputs": [
    {
     "data": {
      "text/html": [
       "<div>\n",
       "<style scoped>\n",
       "    .dataframe tbody tr th:only-of-type {\n",
       "        vertical-align: middle;\n",
       "    }\n",
       "\n",
       "    .dataframe tbody tr th {\n",
       "        vertical-align: top;\n",
       "    }\n",
       "\n",
       "    .dataframe thead th {\n",
       "        text-align: right;\n",
       "    }\n",
       "</style>\n",
       "<table border=\"1\" class=\"dataframe\">\n",
       "  <thead>\n",
       "    <tr style=\"text-align: right;\">\n",
       "      <th></th>\n",
       "      <th>number</th>\n",
       "      <th>plant_capacity_power_kw</th>\n",
       "      <th>plant_capacity_force_kwh</th>\n",
       "      <th>plant_generate_force_kwh</th>\n",
       "      <th>fixed_cost_power_dollar_kW</th>\n",
       "      <th>fixed_cost_plant_dollar</th>\n",
       "      <th>operating_cost(dollar_kWh)</th>\n",
       "      <th>revenues(dollor_kWh)</th>\n",
       "      <th>co2(pounds_kWh)</th>\n",
       "      <th>capacity_national_kwh</th>\n",
       "      <th>capacity_national_kw</th>\n",
       "      <th>generation_national_kwh</th>\n",
       "      <th>load_factor</th>\n",
       "      <th>capacity_%</th>\n",
       "      <th>generation_%</th>\n",
       "    </tr>\n",
       "    <tr>\n",
       "      <th>source</th>\n",
       "      <th></th>\n",
       "      <th></th>\n",
       "      <th></th>\n",
       "      <th></th>\n",
       "      <th></th>\n",
       "      <th></th>\n",
       "      <th></th>\n",
       "      <th></th>\n",
       "      <th></th>\n",
       "      <th></th>\n",
       "      <th></th>\n",
       "      <th></th>\n",
       "      <th></th>\n",
       "      <th></th>\n",
       "      <th></th>\n",
       "    </tr>\n",
       "  </thead>\n",
       "  <tbody>\n",
       "    <tr>\n",
       "      <th>coal</th>\n",
       "      <td>8.0</td>\n",
       "      <td>860112.50</td>\n",
       "      <td>7.534586e+09</td>\n",
       "      <td>1.725150e+09</td>\n",
       "      <td>750.0</td>\n",
       "      <td>6.450844e+08</td>\n",
       "      <td>0.03</td>\n",
       "      <td>0.32</td>\n",
       "      <td>2.26</td>\n",
       "      <td>6.027668e+10</td>\n",
       "      <td>6880900.0</td>\n",
       "      <td>1.380120e+10</td>\n",
       "      <td>0.23</td>\n",
       "      <td>0.08</td>\n",
       "      <td>0.06</td>\n",
       "    </tr>\n",
       "    <tr>\n",
       "      <th>natural gas</th>\n",
       "      <td>48.0</td>\n",
       "      <td>244968.75</td>\n",
       "      <td>2.145926e+09</td>\n",
       "      <td>4.730250e+08</td>\n",
       "      <td>600.0</td>\n",
       "      <td>1.469812e+08</td>\n",
       "      <td>0.07</td>\n",
       "      <td>0.32</td>\n",
       "      <td>0.97</td>\n",
       "      <td>1.030045e+11</td>\n",
       "      <td>11758500.0</td>\n",
       "      <td>2.270520e+10</td>\n",
       "      <td>0.22</td>\n",
       "      <td>0.14</td>\n",
       "      <td>0.10</td>\n",
       "    </tr>\n",
       "    <tr>\n",
       "      <th>CCGT</th>\n",
       "      <td>23.0</td>\n",
       "      <td>655143.48</td>\n",
       "      <td>5.739057e+09</td>\n",
       "      <td>2.245357e+09</td>\n",
       "      <td>900.0</td>\n",
       "      <td>5.896291e+08</td>\n",
       "      <td>0.07</td>\n",
       "      <td>0.32</td>\n",
       "      <td>0.77</td>\n",
       "      <td>1.319983e+11</td>\n",
       "      <td>15068300.0</td>\n",
       "      <td>5.164320e+10</td>\n",
       "      <td>0.39</td>\n",
       "      <td>0.17</td>\n",
       "      <td>0.23</td>\n",
       "    </tr>\n",
       "    <tr>\n",
       "      <th>nuclear</th>\n",
       "      <td>4.0</td>\n",
       "      <td>827450.00</td>\n",
       "      <td>7.248462e+09</td>\n",
       "      <td>6.399750e+09</td>\n",
       "      <td>3100.0</td>\n",
       "      <td>2.565095e+09</td>\n",
       "      <td>0.04</td>\n",
       "      <td>0.32</td>\n",
       "      <td>0.00</td>\n",
       "      <td>2.899385e+10</td>\n",
       "      <td>3309800.0</td>\n",
       "      <td>2.559900e+10</td>\n",
       "      <td>0.88</td>\n",
       "      <td>0.04</td>\n",
       "      <td>0.12</td>\n",
       "    </tr>\n",
       "    <tr>\n",
       "      <th>hydro</th>\n",
       "      <td>739.0</td>\n",
       "      <td>37715.83</td>\n",
       "      <td>3.303907e+08</td>\n",
       "      <td>7.711177e+07</td>\n",
       "      <td>3100.0</td>\n",
       "      <td>1.169191e+08</td>\n",
       "      <td>0.01</td>\n",
       "      <td>0.32</td>\n",
       "      <td>0.00</td>\n",
       "      <td>2.441587e+11</td>\n",
       "      <td>27872000.0</td>\n",
       "      <td>5.698560e+10</td>\n",
       "      <td>0.23</td>\n",
       "      <td>0.32</td>\n",
       "      <td>0.26</td>\n",
       "    </tr>\n",
       "    <tr>\n",
       "      <th>wind</th>\n",
       "      <td>256.0</td>\n",
       "      <td>58180.08</td>\n",
       "      <td>5.096575e+08</td>\n",
       "      <td>1.478203e+08</td>\n",
       "      <td>3100.0</td>\n",
       "      <td>1.803582e+08</td>\n",
       "      <td>0.01</td>\n",
       "      <td>0.32</td>\n",
       "      <td>0.00</td>\n",
       "      <td>1.304723e+11</td>\n",
       "      <td>14894100.0</td>\n",
       "      <td>3.784200e+10</td>\n",
       "      <td>0.29</td>\n",
       "      <td>0.17</td>\n",
       "      <td>0.17</td>\n",
       "    </tr>\n",
       "    <tr>\n",
       "      <th>solar</th>\n",
       "      <td>141.0</td>\n",
       "      <td>45094.33</td>\n",
       "      <td>3.950263e+08</td>\n",
       "      <td>5.525532e+07</td>\n",
       "      <td>4500.0</td>\n",
       "      <td>2.029245e+08</td>\n",
       "      <td>0.01</td>\n",
       "      <td>0.32</td>\n",
       "      <td>0.00</td>\n",
       "      <td>5.569871e+10</td>\n",
       "      <td>6358300.0</td>\n",
       "      <td>7.791000e+09</td>\n",
       "      <td>0.14</td>\n",
       "      <td>0.07</td>\n",
       "      <td>0.04</td>\n",
       "    </tr>\n",
       "  </tbody>\n",
       "</table>\n",
       "</div>"
      ],
      "text/plain": [
       "             number  plant_capacity_power_kw  plant_capacity_force_kwh  \\\n",
       "source                                                                   \n",
       "coal            8.0                860112.50              7.534586e+09   \n",
       "natural gas    48.0                244968.75              2.145926e+09   \n",
       "CCGT           23.0                655143.48              5.739057e+09   \n",
       "nuclear         4.0                827450.00              7.248462e+09   \n",
       "hydro         739.0                 37715.83              3.303907e+08   \n",
       "wind          256.0                 58180.08              5.096575e+08   \n",
       "solar         141.0                 45094.33              3.950263e+08   \n",
       "\n",
       "             plant_generate_force_kwh  fixed_cost_power_dollar_kW  \\\n",
       "source                                                              \n",
       "coal                     1.725150e+09                       750.0   \n",
       "natural gas              4.730250e+08                       600.0   \n",
       "CCGT                     2.245357e+09                       900.0   \n",
       "nuclear                  6.399750e+09                      3100.0   \n",
       "hydro                    7.711177e+07                      3100.0   \n",
       "wind                     1.478203e+08                      3100.0   \n",
       "solar                    5.525532e+07                      4500.0   \n",
       "\n",
       "             fixed_cost_plant_dollar  operating_cost(dollar_kWh)  \\\n",
       "source                                                             \n",
       "coal                    6.450844e+08                        0.03   \n",
       "natural gas             1.469812e+08                        0.07   \n",
       "CCGT                    5.896291e+08                        0.07   \n",
       "nuclear                 2.565095e+09                        0.04   \n",
       "hydro                   1.169191e+08                        0.01   \n",
       "wind                    1.803582e+08                        0.01   \n",
       "solar                   2.029245e+08                        0.01   \n",
       "\n",
       "             revenues(dollor_kWh)  co2(pounds_kWh)  capacity_national_kwh  \\\n",
       "source                                                                      \n",
       "coal                         0.32             2.26           6.027668e+10   \n",
       "natural gas                  0.32             0.97           1.030045e+11   \n",
       "CCGT                         0.32             0.77           1.319983e+11   \n",
       "nuclear                      0.32             0.00           2.899385e+10   \n",
       "hydro                        0.32             0.00           2.441587e+11   \n",
       "wind                         0.32             0.00           1.304723e+11   \n",
       "solar                        0.32             0.00           5.569871e+10   \n",
       "\n",
       "             capacity_national_kw  generation_national_kwh  load_factor  \\\n",
       "source                                                                    \n",
       "coal                    6880900.0             1.380120e+10         0.23   \n",
       "natural gas            11758500.0             2.270520e+10         0.22   \n",
       "CCGT                   15068300.0             5.164320e+10         0.39   \n",
       "nuclear                 3309800.0             2.559900e+10         0.88   \n",
       "hydro                  27872000.0             5.698560e+10         0.23   \n",
       "wind                   14894100.0             3.784200e+10         0.29   \n",
       "solar                   6358300.0             7.791000e+09         0.14   \n",
       "\n",
       "             capacity_%  generation_%  \n",
       "source                                 \n",
       "coal               0.08          0.06  \n",
       "natural gas        0.14          0.10  \n",
       "CCGT               0.17          0.23  \n",
       "nuclear            0.04          0.12  \n",
       "hydro              0.32          0.26  \n",
       "wind               0.17          0.17  \n",
       "solar              0.07          0.04  "
      ]
     },
     "execution_count": 167,
     "metadata": {},
     "output_type": "execute_result"
    }
   ],
   "source": [
    "parameters = pd.read_csv(\"data.csv\", index_col='source')\n",
    "parameters = parameters.astype(\"float64\")\n",
    "parameters"
   ]
  },
  {
   "cell_type": "code",
   "execution_count": 168,
   "metadata": {},
   "outputs": [
    {
     "data": {
      "text/plain": [
       "source\n",
       "coal            6880900.0\n",
       "natural gas    11758500.0\n",
       "CCGT           15068300.0\n",
       "nuclear         3309800.0\n",
       "hydro          27872000.0\n",
       "wind           14894100.0\n",
       "solar           6358300.0\n",
       "Name: capacity_national_kw, dtype: float64"
      ]
     },
     "execution_count": 168,
     "metadata": {},
     "output_type": "execute_result"
    }
   ],
   "source": [
    "parameters[\"capacity_national_kw\"]"
   ]
  },
  {
   "cell_type": "code",
   "execution_count": 169,
   "metadata": {},
   "outputs": [
    {
     "name": "stdout",
     "output_type": "stream",
     "text": [
      "Shape of unit emission: (7,)\n"
     ]
    }
   ],
   "source": [
    "# product_material = np.genfromtxt(\"F:\\Learning\\DABP\\Assignment 1\\Pb1_requirements.csv\", dtype=float, delimiter=',', encoding='utf-8-sig')\n",
    "# print(\"Shape: of product material\", product_material.shape)\n",
    "# resource = np.genfromtxt(\"F:\\Learning\\DABP\\Assignment 1\\Pb1_availability.csv\", dtype=float, delimiter=',', encoding='utf-8-sig')\n",
    "# print(\"Shape: of resource\", resource.shape)\n",
    "# demand = np.genfromtxt(\"F:\\Learning\\DABP\\Assignment 1\\Pb1_demand.csv\", dtype=float, delimiter=',', encoding='utf-8-sig')\n",
    "# print(\"Shape: of demand\", demand.shape)\n",
    "# cost = np.genfromtxt(\"F:\\Learning\\DABP\\Assignment 1\\Pb1_holdingcost.csv\", dtype=float, delimiter=',', encoding='utf-8-sig')\n",
    "# print(\"Shape: of cost\", cost.shape)\n",
    "# unit_profit = np.genfromtxt(\"F:\\Learning\\DABP\\Assignment 1\\Pb1_unitprofit.csv\", dtype=float, delimiter=',', encoding='utf-8-sig')\n",
    "# print(\"Shape: of profit\", unit_profit.shape)\n",
    "unit_emission = np.array(parameters[\"co2(pounds_kWh)\"])\n",
    "print(\"Shape of unit emission:\", unit_emission.shape)\n",
    "unit_cost = np.array(parameters[\"operating_cost(dollar_kWh)\"])\n",
    "fixed_cost = np.array(parameters[\"fixed_cost_plant_dollar\"])\n",
    "yearly_demand = np.array([sum(parameters[\"generation_national_kwh\"]) for i in range(10)])\n",
    "unit_price = 0.32\n",
    "capacity_force = np.array(parameters[\"plant_capacity_force_kwh\"]) # kwh for one plant for one year\n",
    "generate_plant = np.array(parameters[\"plant_generate_force_kwh\"])\n",
    "num_plant_start = np.array(parameters[\"number\"]) # number of plants at year 0\n",
    "budget_start = 9080*10**6 # million of euros"
   ]
  },
  {
   "cell_type": "markdown",
   "metadata": {},
   "source": [
    "Set up index sets"
   ]
  },
  {
   "cell_type": "code",
   "execution_count": 170,
   "metadata": {},
   "outputs": [
    {
     "data": {
      "text/plain": [
       "1000000"
      ]
     },
     "execution_count": 170,
     "metadata": {},
     "output_type": "execute_result"
    }
   ],
   "source": [
    "10**6"
   ]
  },
  {
   "cell_type": "code",
   "execution_count": 171,
   "metadata": {},
   "outputs": [
    {
     "data": {
      "text/plain": [
       "array([2.26, 0.97, 0.77, 0.  , 0.  , 0.  , 0.  ])"
      ]
     },
     "execution_count": 171,
     "metadata": {},
     "output_type": "execute_result"
    }
   ],
   "source": [
    "unit_emission"
   ]
  },
  {
   "cell_type": "code",
   "execution_count": 172,
   "metadata": {},
   "outputs": [],
   "source": [
    "years = range(yearly_demand.shape[0])  # 10\n",
    "sources = range(unit_emission.shape[0])  # 7"
   ]
  },
  {
   "cell_type": "markdown",
   "metadata": {},
   "source": [
    "#### Set up model"
   ]
  },
  {
   "cell_type": "code",
   "execution_count": 173,
   "metadata": {},
   "outputs": [],
   "source": [
    "m = Model()"
   ]
  },
  {
   "cell_type": "markdown",
   "metadata": {},
   "source": [
    "Decision variables"
   ]
  },
  {
   "cell_type": "code",
   "execution_count": 174,
   "metadata": {},
   "outputs": [],
   "source": [
    "dv_num_plant = m.addVars(sources, years, vtype=GRB.INTEGER, lb=0.0, name=\"num_plant\")  # 7*10\n",
    "dv_add_plant = m.addVars(sources, years, vtype=GRB.INTEGER, lb=0.0, name=\"add_plant\")  # 7*10\n",
    "dv_minus_plant = m.addVars(sources, years, vtype=GRB.INTEGER, lb=0.0, name=\"minus_plant\")  # 7*10\n",
    "dv_yearly_budget = m.addVars(years, name=\"budget\") # 10"
   ]
  },
  {
   "cell_type": "markdown",
   "metadata": {},
   "source": [
    "Objective function"
   ]
  },
  {
   "cell_type": "code",
   "execution_count": null,
   "metadata": {},
   "outputs": [],
   "source": []
  },
  {
   "cell_type": "code",
   "execution_count": 175,
   "metadata": {},
   "outputs": [],
   "source": [
    "# Primary Objective: carbon at year 10, set negative in accordance with the MAXIMIZE model sense\n",
    "m.setObjectiveN(sum(-unit_emission[j] * generate_plant[j] * dv_num_plant[j, 9] for j in sources), index=0, priority=10)\n",
    "# Objective 2: total profit = revenue - fixed cost - operating cost\n",
    "sum_revenue = sum(generate_plant[j]*dv_num_plant[j, i]*unit_price for i in years for j in sources)\n",
    "sum_fixed_cost = sum(fixed_cost[j]*dv_add_plant[j, i] for j in sources for i in years)\n",
    "sum_operating_cost = sum(unit_cost[j]*generate_plant[j]*dv_num_plant[j, i] for j in sources for i in years)\n",
    "m.setObjectiveN(sum_revenue + sum_fixed_cost + sum_operating_cost, index=1, priority=5)\n",
    "m.modelSense = GRB.MAXIMIZE"
   ]
  },
  {
   "cell_type": "markdown",
   "metadata": {},
   "source": [
    "Constraints"
   ]
  },
  {
   "cell_type": "code",
   "execution_count": 176,
   "metadata": {},
   "outputs": [
    {
     "data": {
      "text/plain": [
       "array([  8.,  48.,  23.,   4., 739., 256., 141.])"
      ]
     },
     "execution_count": 176,
     "metadata": {},
     "output_type": "execute_result"
    }
   ],
   "source": [
    "num_plant_start"
   ]
  },
  {
   "cell_type": "code",
   "execution_count": 177,
   "metadata": {},
   "outputs": [],
   "source": [
    "# Definition of S = s0 + sum(x)\n",
    "for i in years:\n",
    "    for j in sources:\n",
    "        m.addConstr(dv_num_plant[j, i] == num_plant_start[j] + sum(dv_add_plant[j, k] - dv_minus_plant[j, k] for k in range(0, i)))\n",
    "\n",
    "# Budget Definition\n",
    "for i in years:\n",
    "    if i == 0:\n",
    "        m.addConstr(dv_yearly_budget[i] <= budget_start)\n",
    "    else:\n",
    "        profit_prev_year = yearly_demand[i-1]*unit_price\n",
    "        m.addConstr(dv_yearly_budget[i] <= profit_prev_year)\n",
    "\n",
    "# Budget\n",
    "for i in years:\n",
    "    # fixed + operating cost\n",
    "    yearly_cost = sum(fixed_cost[j]*dv_add_plant[j, i] + unit_cost[j]*generate_plant[j]*dv_num_plant[j, i] for j in sources)\n",
    "    m.addConstr(yearly_cost <= dv_yearly_budget[i])\n",
    "\n",
    "# Demand vs Capacity\n",
    "for i in years:\n",
    "    m.addConstr(sum(capacity_force[j] * dv_num_plant[j, i] for j in sources) >= yearly_demand[i])\n",
    "\n",
    "# Demand vs Generate\n",
    "for i in years:\n",
    "    m.addConstr(sum(generate_plant[j]*dv_num_plant[j, i] for j in sources) >= yearly_demand[i])\n",
    "\n",
    "# Generate vs Capacity\n",
    "for i in years:\n",
    "    m.addConstr(sum(generate_plant[j]*dv_num_plant[j, i] for j in sources) <= sum(capacity_force[j] * dv_num_plant[j, i] for j in sources))\n",
    "\n",
    "# Can't demolish clean energy\n",
    "for j in range(3, 7):\n",
    "    for i in years:\n",
    "        m.addConstr(dv_minus_plant[j, i] == 0)\n"
   ]
  },
  {
   "cell_type": "markdown",
   "metadata": {},
   "source": [
    "#### Solve the model"
   ]
  },
  {
   "cell_type": "code",
   "execution_count": 178,
   "metadata": {},
   "outputs": [
    {
     "name": "stdout",
     "output_type": "stream",
     "text": [
      "Gurobi Optimizer version 9.5.2 build v9.5.2rc0 (win64)\n",
      "Thread count: 4 physical cores, 8 logical processors, using up to 8 threads\n",
      "Optimize a model with 160 rows, 220 columns and 1110 nonzeros\n",
      "Model fingerprint: 0xb5be73e9\n",
      "Variable types: 10 continuous, 210 integer (0 binary)\n",
      "Coefficient statistics:\n",
      "  Matrix range     [1e+00, 8e+09]\n",
      "  Objective range  [2e+07, 4e+09]\n",
      "  Bounds range     [0e+00, 0e+00]\n",
      "  RHS range        [4e+00, 2e+11]\n",
      "Warning: Model contains large matrix coefficients\n",
      "Warning: Model contains large objective coefficients\n",
      "Warning: Model contains large rhs\n",
      "         Consider reformulating model or setting NumericFocus parameter\n",
      "         to avoid numerical issues.\n",
      "\n",
      "---------------------------------------------------------------------------\n",
      "Multi-objectives: starting optimization with 2 objectives ... \n",
      "---------------------------------------------------------------------------\n",
      "\n",
      "Multi-objectives: applying initial presolve ...\n",
      "---------------------------------------------------------------------------\n",
      "\n",
      "Presolve removed 87 rows and 57 columns\n",
      "Presolve time: 0.00s\n",
      "Presolved: 73 rows and 163 columns\n",
      "---------------------------------------------------------------------------\n",
      "\n",
      "Multi-objectives: optimize objective 1 () ...\n",
      "---------------------------------------------------------------------------\n",
      "\n",
      "Presolve removed 0 rows and 21 columns\n",
      "Presolve time: 0.00s\n",
      "Presolved: 73 rows, 142 columns, 676 nonzeros\n",
      "Variable types: 0 continuous, 142 integer (0 binary)\n",
      "\n",
      "Root relaxation: objective -0.000000e+00, 30 iterations, 0.00 seconds (0.00 work units)\n",
      "\n",
      "    Nodes    |    Current Node    |     Objective Bounds      |     Work\n",
      " Expl Unexpl |  Obj  Depth IntInf | Incumbent    BestBd   Gap | It/Node Time\n",
      "\n",
      "     0     0   -0.00000    0    7          -   -0.00000      -     -    0s\n",
      "H    0     0                      -0.0000000   -0.00000  0.00%     -    0s\n",
      "     0     0   -0.00000    0    7   -0.00000   -0.00000  0.00%     -    0s\n",
      "\n",
      "Explored 1 nodes (30 simplex iterations) in 0.04 seconds (0.00 work units)\n",
      "Thread count was 8 (of 8 available processors)\n",
      "\n",
      "Solution count 1: -0 \n",
      "No other solutions better than -0\n",
      "\n",
      "Optimal solution found (tolerance 1.00e-04)\n",
      "Best objective -0.000000000000e+00, best bound -0.000000000000e+00, gap 0.0000%\n",
      "---------------------------------------------------------------------------\n",
      "\n",
      "Multi-objectives: optimize objective 2 () ...\n",
      "---------------------------------------------------------------------------\n",
      "\n",
      "\n",
      "Loaded user MIP start with objective 8.27384e+11\n",
      "\n",
      "Presolve removed 1 rows and 18 columns\n",
      "Presolve time: 0.00s\n",
      "Presolved: 72 rows, 145 columns, 656 nonzeros\n",
      "Variable types: 0 continuous, 145 integer (0 binary)\n",
      "Found heuristic solution: objective 1.022205e+12\n",
      "\n",
      "Root relaxation: objective 2.716728e+12, 72 iterations, 0.00 seconds (0.00 work units)\n",
      "\n",
      "    Nodes    |    Current Node    |     Objective Bounds      |     Work\n",
      " Expl Unexpl |  Obj  Depth IntInf | Incumbent    BestBd   Gap | It/Node Time\n",
      "\n",
      "     0     0 2.7167e+12    0   25 1.0222e+12 2.7167e+12   166%     -    0s\n",
      "H    0     0                    1.976839e+12 2.7167e+12  37.4%     -    0s\n",
      "H    0     0                    2.037808e+12 2.7167e+12  33.3%     -    0s\n",
      "H    0     0                    2.152542e+12 2.7167e+12  26.2%     -    0s\n",
      "H    0     0                    2.261941e+12 2.7167e+12  20.1%     -    0s\n",
      "H    0     0                    2.647124e+12 2.7167e+12  2.63%     -    0s\n",
      "H    0     0                    2.701835e+12 2.7153e+12  0.50%     -    0s\n",
      "     0     0 2.7152e+12    0   25 2.7018e+12 2.7152e+12  0.50%     -    0s\n",
      "H    0     0                    2.702873e+12 2.7152e+12  0.46%     -    0s\n",
      "H    0     2                    2.703194e+12 2.7152e+12  0.44%     -    0s\n",
      "     0     2 2.7152e+12    0   25 2.7032e+12 2.7152e+12  0.44%     -    0s\n",
      "H   35    37                    2.703297e+12 2.7147e+12  0.42%   2.7    0s\n",
      "H   71    76                    2.707834e+12 2.7147e+12  0.25%   2.3    0s\n",
      "H  128   102                    2.707849e+12 2.7147e+12  0.25%   2.0    0s\n",
      "H  231   221                    2.709212e+12 2.7147e+12  0.20%   2.1    0s\n",
      "H  369   267                    2.710813e+12 2.7139e+12  0.11%   2.0    0s\n",
      "H  476   276                    2.710813e+12 2.7138e+12  0.11%   2.0    0s\n",
      "H  923   613                    2.710814e+12 2.7136e+12  0.10%   2.1    0s\n",
      "H 1169   599                    2.710814e+12 2.7136e+12  0.10%   2.1    0s\n",
      "H 2784   901                    2.710877e+12 2.7129e+12  0.08%   2.2    0s\n",
      "H 3098  1014                    2.710899e+12 2.7128e+12  0.07%   2.2    0s\n",
      "H 3156  1012                    2.710900e+12 2.7128e+12  0.07%   2.2    0s\n",
      "H 5151  1653                    2.710901e+12 2.7126e+12  0.06%   2.3    1s\n",
      "H14776  2804                    2.710926e+12 2.7118e+12  0.03%   2.6    1s\n",
      "H14788  2788                    2.710932e+12 2.7118e+12  0.03%   2.6    1s\n",
      "H14801  2785                    2.710934e+12 2.7118e+12  0.03%   2.6    1s\n",
      "H21767  2031                    2.710934e+12 2.7115e+12  0.02%   2.8    1s\n",
      "H22493  1783                    2.711025e+12 2.7115e+12  0.02%   2.8    1s\n",
      "H24552   933                    2.711025e+12 2.7114e+12  0.01%   2.9    1s\n",
      "\n",
      "Explored 25056 nodes (71673 simplex iterations) in 1.87 seconds (0.34 work units)\n",
      "Thread count was 8 (of 8 available processors)\n",
      "\n",
      "Solution count 10: 2.71102e+12 2.71102e+12 2.71093e+12 ... 2.71088e+12\n",
      "\n",
      "Optimal solution found (tolerance 1.00e-04)\n",
      "Best objective 2.711024661078e+12, best bound 2.711269122968e+12, gap 0.0090%\n",
      "\n",
      "---------------------------------------------------------------------------\n",
      "Multi-objectives: solved in 1.89 seconds (0.34 work units), solution count 10\n",
      "\n"
     ]
    }
   ],
   "source": [
    "# Solve\n",
    "m.optimize()"
   ]
  },
  {
   "cell_type": "markdown",
   "metadata": {},
   "source": [
    "It takes 0.67 seconds to solve the model."
   ]
  },
  {
   "cell_type": "code",
   "execution_count": 179,
   "metadata": {},
   "outputs": [
    {
     "name": "stdout",
     "output_type": "stream",
     "text": [
      "Problem has 2 objectives\n",
      "Gurobi found 10 solutions\n"
     ]
    }
   ],
   "source": [
    "# get the set of variables\n",
    "x = m.getVars()\n",
    "\n",
    "# Ensure status is optimal\n",
    "assert m.Status == GRB.Status.OPTIMAL\n",
    "\n",
    "# Query number of multiple objectives, and number of solutions\n",
    "nSolutions  = m.SolCount\n",
    "nObjectives = m.NumObj\n",
    "print('Problem has', nObjectives, 'objectives')\n",
    "print('Gurobi found', nSolutions, 'solutions')\n"
   ]
  },
  {
   "cell_type": "code",
   "execution_count": 181,
   "metadata": {},
   "outputs": [
    {
     "name": "stdout",
     "output_type": "stream",
     "text": [
      "Solution 0 :  0.0  2711024661077.8286num_plant[0,0] 8.0num_plant[0,1] 10.0num_plant[0,2] 25.0num_plant[0,3] 27.0num_plant[0,4] 28.0num_plant[0,5] 28.0num_plant[0,6] 28.0num_plant[0,7] 28.0num_plant[0,8] 28.0num_plant[0,9] 0.0num_plant[1,0] 48.0num_plant[1,1] 48.0num_plant[1,2] 50.0num_plant[1,3] 51.0num_plant[1,4] 51.0num_plant[1,5] 51.0num_plant[1,6] 51.0num_plant[1,7] 51.0num_plant[1,8] 52.0num_plant[1,9] 0.0num_plant[2,0] 23.0num_plant[2,1] 23.0num_plant[2,2] 23.0num_plant[2,3] 23.0num_plant[2,4] 24.0num_plant[2,5] 26.0num_plant[2,6] 29.0num_plant[2,7] 29.0num_plant[2,8] 31.0num_plant[2,9] 0.0num_plant[3,0] 4.0num_plant[3,1] 4.0num_plant[3,2] 24.0num_plant[3,3] 45.0num_plant[3,4] 64.0num_plant[3,5] 81.0num_plant[3,6] 96.0num_plant[3,7] 110.0num_plant[3,8] 122.0num_plant[3,9] 133.0num_plant[4,0] 739.0num_plant[4,1] 740.0num_plant[4,2] 740.0num_plant[4,3] 740.0num_plant[4,4] 740.0num_plant[4,5] 741.0num_plant[4,6] 741.0num_plant[4,7] 741.0num_plant[4,8] 743.0num_plant[4,9] 746.0num_plant[5,0] 256.0num_plant[5,1] 256.0num_plant[5,2] 257.0num_plant[5,3] 258.0num_plant[5,4] 258.0num_plant[5,5] 258.0num_plant[5,6] 258.0num_plant[5,7] 258.0num_plant[5,8] 258.0num_plant[5,9] 260.0num_plant[6,0] 141.0num_plant[6,1] 141.0num_plant[6,2] 141.0num_plant[6,3] 141.0num_plant[6,4] 141.0num_plant[6,5] 141.0num_plant[6,6] 141.0num_plant[6,7] 141.0num_plant[6,8] 141.0num_plant[6,9] 141.0\n",
      "Solution 1 :  0.0  2711024641896.229num_plant[0,0] 8.0num_plant[0,1] 10.0num_plant[0,2] 25.0num_plant[0,3] 27.0num_plant[0,4] 28.0num_plant[0,5] 28.0num_plant[0,6] 28.0num_plant[0,7] 28.0num_plant[0,8] 28.0num_plant[0,9] 0.0num_plant[1,0] 48.0num_plant[1,1] 48.0num_plant[1,2] 50.0num_plant[1,3] 51.0num_plant[1,4] 51.0num_plant[1,5] 51.0num_plant[1,6] 51.0num_plant[1,7] 51.0num_plant[1,8] 52.0num_plant[1,9] 0.0num_plant[2,0] 23.0num_plant[2,1] 23.0num_plant[2,2] 23.0num_plant[2,3] 23.0num_plant[2,4] 24.0num_plant[2,5] 26.0num_plant[2,6] 29.0num_plant[2,7] 29.0num_plant[2,8] 31.0num_plant[2,9] 0.0num_plant[3,0] 4.0num_plant[3,1] 4.0num_plant[3,2] 24.0num_plant[3,3] 45.0num_plant[3,4] 64.0num_plant[3,5] 81.0num_plant[3,6] 96.0num_plant[3,7] 110.0num_plant[3,8] 122.0num_plant[3,9] 133.0num_plant[4,0] 739.0num_plant[4,1] 740.0num_plant[4,2] 740.0num_plant[4,3] 740.0num_plant[4,4] 740.0num_plant[4,5] 741.0num_plant[4,6] 741.0num_plant[4,7] 741.0num_plant[4,8] 743.0num_plant[4,9] 746.0num_plant[5,0] 256.0num_plant[5,1] 256.0num_plant[5,2] 257.0num_plant[5,3] 258.0num_plant[5,4] 258.0num_plant[5,5] 258.0num_plant[5,6] 258.0num_plant[5,7] 258.0num_plant[5,8] 258.0num_plant[5,9] 260.0num_plant[6,0] 141.0num_plant[6,1] 141.0num_plant[6,2] 141.0num_plant[6,3] 141.0num_plant[6,4] 141.0num_plant[6,5] 141.0num_plant[6,6] 141.0num_plant[6,7] 141.0num_plant[6,8] 141.0num_plant[6,9] 141.0\n",
      "Solution 2 :  0.0  2710933967287.1865num_plant[0,0] 8.0num_plant[0,1] 10.0num_plant[0,2] 25.0num_plant[0,3] 27.0num_plant[0,4] 28.0num_plant[0,5] 28.0num_plant[0,6] 28.0num_plant[0,7] 28.0num_plant[0,8] 28.0num_plant[0,9] 0.0num_plant[1,0] 48.0num_plant[1,1] 48.0num_plant[1,2] 51.0num_plant[1,3] 51.0num_plant[1,4] 51.0num_plant[1,5] 51.0num_plant[1,6] 51.0num_plant[1,7] 51.0num_plant[1,8] 52.0num_plant[1,9] 0.0num_plant[2,0] 23.0num_plant[2,1] 23.0num_plant[2,2] 23.0num_plant[2,3] 23.0num_plant[2,4] 24.0num_plant[2,5] 26.0num_plant[2,6] 29.0num_plant[2,7] 29.0num_plant[2,8] 31.0num_plant[2,9] 0.0num_plant[3,0] 4.0num_plant[3,1] 4.0num_plant[3,2] 24.0num_plant[3,3] 45.0num_plant[3,4] 64.0num_plant[3,5] 81.0num_plant[3,6] 96.0num_plant[3,7] 110.0num_plant[3,8] 122.0num_plant[3,9] 133.0num_plant[4,0] 739.0num_plant[4,1] 740.0num_plant[4,2] 740.0num_plant[4,3] 741.0num_plant[4,4] 741.0num_plant[4,5] 742.0num_plant[4,6] 742.0num_plant[4,7] 742.0num_plant[4,8] 744.0num_plant[4,9] 747.0num_plant[5,0] 256.0num_plant[5,1] 256.0num_plant[5,2] 256.0num_plant[5,3] 257.0num_plant[5,4] 257.0num_plant[5,5] 257.0num_plant[5,6] 257.0num_plant[5,7] 257.0num_plant[5,8] 257.0num_plant[5,9] 259.0num_plant[6,0] 141.0num_plant[6,1] 141.0num_plant[6,2] 141.0num_plant[6,3] 141.0num_plant[6,4] 141.0num_plant[6,5] 141.0num_plant[6,6] 141.0num_plant[6,7] 141.0num_plant[6,8] 141.0num_plant[6,9] 141.0\n",
      "Solution 3 :  0.0  2710933952508.416num_plant[0,0] 8.0num_plant[0,1] 10.0num_plant[0,2] 25.0num_plant[0,3] 27.0num_plant[0,4] 28.0num_plant[0,5] 28.0num_plant[0,6] 28.0num_plant[0,7] 28.0num_plant[0,8] 28.0num_plant[0,9] 0.0num_plant[1,0] 48.0num_plant[1,1] 48.0num_plant[1,2] 51.0num_plant[1,3] 51.0num_plant[1,4] 51.0num_plant[1,5] 51.0num_plant[1,6] 51.0num_plant[1,7] 51.0num_plant[1,8] 52.0num_plant[1,9] 0.0num_plant[2,0] 23.0num_plant[2,1] 23.0num_plant[2,2] 23.0num_plant[2,3] 23.0num_plant[2,4] 24.0num_plant[2,5] 26.0num_plant[2,6] 29.0num_plant[2,7] 29.0num_plant[2,8] 31.0num_plant[2,9] 0.0num_plant[3,0] 4.0num_plant[3,1] 4.0num_plant[3,2] 24.0num_plant[3,3] 45.0num_plant[3,4] 64.0num_plant[3,5] 81.0num_plant[3,6] 96.0num_plant[3,7] 110.0num_plant[3,8] 122.0num_plant[3,9] 133.0num_plant[4,0] 739.0num_plant[4,1] 740.0num_plant[4,2] 740.0num_plant[4,3] 741.0num_plant[4,4] 741.0num_plant[4,5] 742.0num_plant[4,6] 742.0num_plant[4,7] 742.0num_plant[4,8] 744.0num_plant[4,9] 747.0num_plant[5,0] 256.0num_plant[5,1] 256.0num_plant[5,2] 256.0num_plant[5,3] 257.0num_plant[5,4] 257.0num_plant[5,5] 257.0num_plant[5,6] 257.0num_plant[5,7] 257.0num_plant[5,8] 257.0num_plant[5,9] 259.0num_plant[6,0] 141.0num_plant[6,1] 141.0num_plant[6,2] 141.0num_plant[6,3] 141.0num_plant[6,4] 141.0num_plant[6,5] 141.0num_plant[6,6] 141.0num_plant[6,7] 141.0num_plant[6,8] 141.0num_plant[6,9] 141.0\n",
      "Solution 4 :  0.0  2710932327038.0464num_plant[0,0] 8.0num_plant[0,1] 10.0num_plant[0,2] 25.0num_plant[0,3] 27.0num_plant[0,4] 28.0num_plant[0,5] 28.0num_plant[0,6] 28.0num_plant[0,7] 28.0num_plant[0,8] 28.0num_plant[0,9] 0.0num_plant[1,0] 48.0num_plant[1,1] 48.0num_plant[1,2] 51.0num_plant[1,3] 51.0num_plant[1,4] 51.0num_plant[1,5] 51.0num_plant[1,6] 51.0num_plant[1,7] 51.0num_plant[1,8] 52.0num_plant[1,9] 0.0num_plant[2,0] 23.0num_plant[2,1] 23.0num_plant[2,2] 23.0num_plant[2,3] 23.0num_plant[2,4] 24.0num_plant[2,5] 26.0num_plant[2,6] 29.0num_plant[2,7] 29.0num_plant[2,8] 31.0num_plant[2,9] 0.0num_plant[3,0] 4.0num_plant[3,1] 4.0num_plant[3,2] 24.0num_plant[3,3] 45.0num_plant[3,4] 64.0num_plant[3,5] 81.0num_plant[3,6] 96.0num_plant[3,7] 110.0num_plant[3,8] 122.0num_plant[3,9] 133.0num_plant[4,0] 739.0num_plant[4,1] 740.0num_plant[4,2] 740.0num_plant[4,3] 741.0num_plant[4,4] 741.0num_plant[4,5] 742.0num_plant[4,6] 742.0num_plant[4,7] 742.0num_plant[4,8] 744.0num_plant[4,9] 747.0num_plant[5,0] 256.0num_plant[5,1] 256.0num_plant[5,2] 256.0num_plant[5,3] 257.0num_plant[5,4] 257.0num_plant[5,5] 257.0num_plant[5,6] 257.0num_plant[5,7] 257.0num_plant[5,8] 257.0num_plant[5,9] 259.0num_plant[6,0] 141.0num_plant[6,1] 141.0num_plant[6,2] 141.0num_plant[6,3] 141.0num_plant[6,4] 141.0num_plant[6,5] 141.0num_plant[6,6] 141.0num_plant[6,7] 141.0num_plant[6,8] 141.0num_plant[6,9] 141.0\n",
      "Solution 5 :  0.0  2710925682615.216num_plant[0,0] 8.0num_plant[0,1] 10.0num_plant[0,2] 25.0num_plant[0,3] 27.0num_plant[0,4] 28.0num_plant[0,5] 28.0num_plant[0,6] 28.0num_plant[0,7] 28.0num_plant[0,8] 28.0num_plant[0,9] 0.0num_plant[1,0] 48.0num_plant[1,1] 48.0num_plant[1,2] 51.0num_plant[1,3] 51.0num_plant[1,4] 51.0num_plant[1,5] 51.0num_plant[1,6] 51.0num_plant[1,7] 51.0num_plant[1,8] 52.0num_plant[1,9] 0.0num_plant[2,0] 23.0num_plant[2,1] 23.0num_plant[2,2] 23.0num_plant[2,3] 23.0num_plant[2,4] 24.0num_plant[2,5] 26.0num_plant[2,6] 29.0num_plant[2,7] 29.0num_plant[2,8] 31.0num_plant[2,9] 0.0num_plant[3,0] 4.0num_plant[3,1] 4.0num_plant[3,2] 24.0num_plant[3,3] 45.0num_plant[3,4] 64.0num_plant[3,5] 81.0num_plant[3,6] 96.0num_plant[3,7] 110.0num_plant[3,8] 122.0num_plant[3,9] 133.0num_plant[4,0] 739.0num_plant[4,1] 740.0num_plant[4,2] 740.0num_plant[4,3] 741.0num_plant[4,4] 741.0num_plant[4,5] 742.0num_plant[4,6] 742.0num_plant[4,7] 742.0num_plant[4,8] 744.0num_plant[4,9] 747.0num_plant[5,0] 256.0num_plant[5,1] 256.0num_plant[5,2] 256.0num_plant[5,3] 257.0num_plant[5,4] 257.0num_plant[5,5] 257.0num_plant[5,6] 257.0num_plant[5,7] 257.0num_plant[5,8] 257.0num_plant[5,9] 259.0num_plant[6,0] 141.0num_plant[6,1] 141.0num_plant[6,2] 141.0num_plant[6,3] 141.0num_plant[6,4] 141.0num_plant[6,5] 141.0num_plant[6,6] 141.0num_plant[6,7] 141.0num_plant[6,8] 141.0num_plant[6,9] 141.0\n",
      "Solution 6 :  0.0  2710900552402.3164num_plant[0,0] 8.0num_plant[0,1] 10.0num_plant[0,2] 17.0num_plant[0,3] 19.0num_plant[0,4] 20.0num_plant[0,5] 21.0num_plant[0,6] 21.0num_plant[0,7] 21.0num_plant[0,8] 21.0num_plant[0,9] 0.0num_plant[1,0] 48.0num_plant[1,1] 48.0num_plant[1,2] 51.0num_plant[1,3] 52.0num_plant[1,4] 55.0num_plant[1,5] 55.0num_plant[1,6] 55.0num_plant[1,7] 55.0num_plant[1,8] 61.0num_plant[1,9] 0.0num_plant[2,0] 23.0num_plant[2,1] 23.0num_plant[2,2] 23.0num_plant[2,3] 23.0num_plant[2,4] 23.0num_plant[2,5] 24.0num_plant[2,6] 27.0num_plant[2,7] 27.0num_plant[2,8] 28.0num_plant[2,9] 0.0num_plant[3,0] 4.0num_plant[3,1] 4.0num_plant[3,2] 26.0num_plant[3,3] 47.0num_plant[3,4] 66.0num_plant[3,5] 83.0num_plant[3,6] 98.0num_plant[3,7] 112.0num_plant[3,8] 124.0num_plant[3,9] 135.0num_plant[4,0] 739.0num_plant[4,1] 740.0num_plant[4,2] 740.0num_plant[4,3] 740.0num_plant[4,4] 740.0num_plant[4,5] 740.0num_plant[4,6] 740.0num_plant[4,7] 740.0num_plant[4,8] 741.0num_plant[4,9] 741.0num_plant[5,0] 256.0num_plant[5,1] 256.0num_plant[5,2] 256.0num_plant[5,3] 256.0num_plant[5,4] 256.0num_plant[5,5] 256.0num_plant[5,6] 256.0num_plant[5,7] 256.0num_plant[5,8] 256.0num_plant[5,9] 260.0num_plant[6,0] 141.0num_plant[6,1] 141.0num_plant[6,2] 141.0num_plant[6,3] 141.0num_plant[6,4] 141.0num_plant[6,5] 141.0num_plant[6,6] 141.0num_plant[6,7] 141.0num_plant[6,8] 141.0num_plant[6,9] 141.0\n",
      "Solution 7 :  0.0  2710900036912.927num_plant[0,0] 8.0num_plant[0,1] 10.0num_plant[0,2] 17.0num_plant[0,3] 19.0num_plant[0,4] 20.0num_plant[0,5] 21.0num_plant[0,6] 21.0num_plant[0,7] 21.0num_plant[0,8] 21.0num_plant[0,9] 0.0num_plant[1,0] 48.0num_plant[1,1] 48.0num_plant[1,2] 51.0num_plant[1,3] 52.0num_plant[1,4] 55.0num_plant[1,5] 55.0num_plant[1,6] 55.0num_plant[1,7] 55.0num_plant[1,8] 61.0num_plant[1,9] 0.0num_plant[2,0] 23.0num_plant[2,1] 23.0num_plant[2,2] 23.0num_plant[2,3] 23.0num_plant[2,4] 23.0num_plant[2,5] 24.0num_plant[2,6] 27.0num_plant[2,7] 27.0num_plant[2,8] 28.0num_plant[2,9] 0.0num_plant[3,0] 4.0num_plant[3,1] 4.0num_plant[3,2] 26.0num_plant[3,3] 47.0num_plant[3,4] 66.0num_plant[3,5] 83.0num_plant[3,6] 98.0num_plant[3,7] 112.0num_plant[3,8] 124.0num_plant[3,9] 135.0num_plant[4,0] 739.0num_plant[4,1] 740.0num_plant[4,2] 740.0num_plant[4,3] 740.0num_plant[4,4] 740.0num_plant[4,5] 740.0num_plant[4,6] 740.0num_plant[4,7] 740.0num_plant[4,8] 741.0num_plant[4,9] 741.0num_plant[5,0] 256.0num_plant[5,1] 256.0num_plant[5,2] 256.0num_plant[5,3] 256.0num_plant[5,4] 256.0num_plant[5,5] 256.0num_plant[5,6] 256.0num_plant[5,7] 256.0num_plant[5,8] 256.0num_plant[5,9] 260.0num_plant[6,0] 141.0num_plant[6,1] 141.0num_plant[6,2] 141.0num_plant[6,3] 141.0num_plant[6,4] 141.0num_plant[6,5] 141.0num_plant[6,6] 141.0num_plant[6,7] 141.0num_plant[6,8] 141.0num_plant[6,9] 141.0\n",
      "Solution 8 :  0.0  2710899089394.5063num_plant[0,0] 8.0num_plant[0,1] 10.0num_plant[0,2] 17.0num_plant[0,3] 19.0num_plant[0,4] 20.0num_plant[0,5] 21.0num_plant[0,6] 21.0num_plant[0,7] 21.0num_plant[0,8] 21.0num_plant[0,9] 0.0num_plant[1,0] 48.0num_plant[1,1] 48.0num_plant[1,2] 51.0num_plant[1,3] 52.0num_plant[1,4] 55.0num_plant[1,5] 55.0num_plant[1,6] 55.0num_plant[1,7] 55.0num_plant[1,8] 61.0num_plant[1,9] 0.0num_plant[2,0] 23.0num_plant[2,1] 23.0num_plant[2,2] 23.0num_plant[2,3] 23.0num_plant[2,4] 23.0num_plant[2,5] 24.0num_plant[2,6] 27.0num_plant[2,7] 27.0num_plant[2,8] 28.0num_plant[2,9] 0.0num_plant[3,0] 4.0num_plant[3,1] 4.0num_plant[3,2] 26.0num_plant[3,3] 47.0num_plant[3,4] 66.0num_plant[3,5] 83.0num_plant[3,6] 98.0num_plant[3,7] 112.0num_plant[3,8] 124.0num_plant[3,9] 135.0num_plant[4,0] 739.0num_plant[4,1] 740.0num_plant[4,2] 740.0num_plant[4,3] 740.0num_plant[4,4] 740.0num_plant[4,5] 740.0num_plant[4,6] 740.0num_plant[4,7] 740.0num_plant[4,8] 741.0num_plant[4,9] 741.0num_plant[5,0] 256.0num_plant[5,1] 256.0num_plant[5,2] 256.0num_plant[5,3] 256.0num_plant[5,4] 256.0num_plant[5,5] 256.0num_plant[5,6] 256.0num_plant[5,7] 256.0num_plant[5,8] 256.0num_plant[5,9] 260.0num_plant[6,0] 141.0num_plant[6,1] 141.0num_plant[6,2] 141.0num_plant[6,3] 141.0num_plant[6,4] 141.0num_plant[6,5] 141.0num_plant[6,6] 141.0num_plant[6,7] 141.0num_plant[6,8] 141.0num_plant[6,9] 141.0\n",
      "Solution 9 :  0.0  2710876511058.1064num_plant[0,0] 8.0num_plant[0,1] 10.0num_plant[0,2] 17.0num_plant[0,3] 19.0num_plant[0,4] 20.0num_plant[0,5] 21.0num_plant[0,6] 21.0num_plant[0,7] 21.0num_plant[0,8] 21.0num_plant[0,9] 0.0num_plant[1,0] 48.0num_plant[1,1] 48.0num_plant[1,2] 51.0num_plant[1,3] 52.0num_plant[1,4] 55.0num_plant[1,5] 55.0num_plant[1,6] 55.0num_plant[1,7] 55.0num_plant[1,8] 61.0num_plant[1,9] 0.0num_plant[2,0] 23.0num_plant[2,1] 23.0num_plant[2,2] 23.0num_plant[2,3] 23.0num_plant[2,4] 23.0num_plant[2,5] 24.0num_plant[2,6] 27.0num_plant[2,7] 27.0num_plant[2,8] 28.0num_plant[2,9] 0.0num_plant[3,0] 4.0num_plant[3,1] 4.0num_plant[3,2] 26.0num_plant[3,3] 47.0num_plant[3,4] 66.0num_plant[3,5] 83.0num_plant[3,6] 98.0num_plant[3,7] 112.0num_plant[3,8] 124.0num_plant[3,9] 135.0num_plant[4,0] 739.0num_plant[4,1] 740.0num_plant[4,2] 740.0num_plant[4,3] 740.0num_plant[4,4] 740.0num_plant[4,5] 740.0num_plant[4,6] 740.0num_plant[4,7] 740.0num_plant[4,8] 741.0num_plant[4,9] 741.0num_plant[5,0] 256.0num_plant[5,1] 256.0num_plant[5,2] 256.0num_plant[5,3] 256.0num_plant[5,4] 256.0num_plant[5,5] 256.0num_plant[5,6] 256.0num_plant[5,7] 256.0num_plant[5,8] 256.0num_plant[5,9] 260.0num_plant[6,0] 141.0num_plant[6,1] 141.0num_plant[6,2] 141.0num_plant[6,3] 141.0num_plant[6,4] 141.0num_plant[6,5] 141.0num_plant[6,6] 141.0num_plant[6,7] 141.0num_plant[6,8] 141.0num_plant[6,9] 141.0\n"
     ]
    }
   ],
   "source": [
    "# For each solution, print value of first three variables, and\n",
    "# value for each objective function\n",
    "solutions = []\n",
    "for s in range(nSolutions):\n",
    "  # Set which solution we will query from now on\n",
    "  m.params.SolutionNumber = s\n",
    "\n",
    "  # Print objective value of this solution in each objective\n",
    "  print('Solution', s, ':', end='')\n",
    "  for o in range(nObjectives):\n",
    "    # Set which objective we will query\n",
    "    m.params.ObjNumber = o\n",
    "    # Query the o-th objective value\n",
    "    print(' ',m.ObjNVal, end='')\n",
    "\n",
    "  # print first three variables in the solution\n",
    "  n = min(len(x),70)\n",
    "  for j in range(n):\n",
    "    print(x[j].VarName, x[j].Xn, end='')\n",
    "  print('')\n",
    "\n",
    "  # query the full vector of the o-th solution\n",
    "  solutions.append(m.getAttr('Xn',x))\n"
   ]
  }
 ],
 "metadata": {
  "kernelspec": {
   "display_name": "Python 3.9.12 ('base')",
   "language": "python",
   "name": "python3"
  },
  "language_info": {
   "codemirror_mode": {
    "name": "ipython",
    "version": 3
   },
   "file_extension": ".py",
   "mimetype": "text/x-python",
   "name": "python",
   "nbconvert_exporter": "python",
   "pygments_lexer": "ipython3",
   "version": "3.9.12"
  },
  "orig_nbformat": 4,
  "vscode": {
   "interpreter": {
    "hash": "16f5b46f222e2a3e8d4adbf7141cae37b71ed37616e60735fa5d1164a1bc3ada"
   }
  }
 },
 "nbformat": 4,
 "nbformat_minor": 2
}
