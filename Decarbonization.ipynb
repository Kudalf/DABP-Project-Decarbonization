{
 "cells": [
  {
   "cell_type": "markdown",
   "metadata": {},
   "source": [
    "# Decarbonization Projcet\n"
   ]
  },
  {
   "cell_type": "markdown",
   "metadata": {},
   "source": [
    "# Model Implementation"
   ]
  },
  {
   "cell_type": "markdown",
   "metadata": {},
   "source": [
    "#### Preparations"
   ]
  },
  {
   "cell_type": "markdown",
   "metadata": {},
   "source": [
    "Import packages"
   ]
  },
  {
   "cell_type": "code",
   "execution_count": 8,
   "metadata": {},
   "outputs": [],
   "source": [
    "from gurobipy import *\n",
    "import numpy as np\n",
    "import pandas as pd\n",
    "import seaborn as sns\n",
    "from matplotlib import pyplot as plt"
   ]
  },
  {
   "cell_type": "markdown",
   "metadata": {},
   "source": [
    "Load parameters\n"
   ]
  },
  {
   "cell_type": "code",
   "execution_count": 9,
   "metadata": {},
   "outputs": [
    {
     "data": {
      "text/html": [
       "<div>\n",
       "<style scoped>\n",
       "    .dataframe tbody tr th:only-of-type {\n",
       "        vertical-align: middle;\n",
       "    }\n",
       "\n",
       "    .dataframe tbody tr th {\n",
       "        vertical-align: top;\n",
       "    }\n",
       "\n",
       "    .dataframe thead th {\n",
       "        text-align: right;\n",
       "    }\n",
       "</style>\n",
       "<table border=\"1\" class=\"dataframe\">\n",
       "  <thead>\n",
       "    <tr style=\"text-align: right;\">\n",
       "      <th></th>\n",
       "      <th>number</th>\n",
       "      <th>plant_capacity_power_kw</th>\n",
       "      <th>plant_capacity_force_kwh</th>\n",
       "      <th>plant_generate_force_kwh</th>\n",
       "      <th>fixed_cost_power_dollar_kW</th>\n",
       "      <th>fixed_cost_plant_dollar</th>\n",
       "      <th>operating_cost(dollar_kWh)</th>\n",
       "      <th>revenues(dollor_kWh)</th>\n",
       "      <th>co2(pounds_kWh)</th>\n",
       "      <th>capacity_national_kwh</th>\n",
       "      <th>capacity_national_kw</th>\n",
       "      <th>generation_national_kwh</th>\n",
       "      <th>load_factor</th>\n",
       "      <th>capacity_%</th>\n",
       "      <th>generation_%</th>\n",
       "    </tr>\n",
       "    <tr>\n",
       "      <th>source</th>\n",
       "      <th></th>\n",
       "      <th></th>\n",
       "      <th></th>\n",
       "      <th></th>\n",
       "      <th></th>\n",
       "      <th></th>\n",
       "      <th></th>\n",
       "      <th></th>\n",
       "      <th></th>\n",
       "      <th></th>\n",
       "      <th></th>\n",
       "      <th></th>\n",
       "      <th></th>\n",
       "      <th></th>\n",
       "      <th></th>\n",
       "    </tr>\n",
       "  </thead>\n",
       "  <tbody>\n",
       "    <tr>\n",
       "      <th>coal</th>\n",
       "      <td>8.0</td>\n",
       "      <td>860112.50</td>\n",
       "      <td>7.534586e+09</td>\n",
       "      <td>1.725150e+09</td>\n",
       "      <td>750.0</td>\n",
       "      <td>6.450844e+08</td>\n",
       "      <td>0.03</td>\n",
       "      <td>0.32</td>\n",
       "      <td>2.26</td>\n",
       "      <td>6.027668e+10</td>\n",
       "      <td>6880900.0</td>\n",
       "      <td>1.380120e+10</td>\n",
       "      <td>0.23</td>\n",
       "      <td>0.08</td>\n",
       "      <td>0.06</td>\n",
       "    </tr>\n",
       "    <tr>\n",
       "      <th>natural gas</th>\n",
       "      <td>48.0</td>\n",
       "      <td>244968.75</td>\n",
       "      <td>2.145926e+09</td>\n",
       "      <td>4.730250e+08</td>\n",
       "      <td>600.0</td>\n",
       "      <td>1.469812e+08</td>\n",
       "      <td>0.07</td>\n",
       "      <td>0.32</td>\n",
       "      <td>0.97</td>\n",
       "      <td>1.030045e+11</td>\n",
       "      <td>11758500.0</td>\n",
       "      <td>2.270520e+10</td>\n",
       "      <td>0.22</td>\n",
       "      <td>0.14</td>\n",
       "      <td>0.10</td>\n",
       "    </tr>\n",
       "    <tr>\n",
       "      <th>CCGT</th>\n",
       "      <td>23.0</td>\n",
       "      <td>655143.48</td>\n",
       "      <td>5.739057e+09</td>\n",
       "      <td>2.245357e+09</td>\n",
       "      <td>900.0</td>\n",
       "      <td>5.896291e+08</td>\n",
       "      <td>0.07</td>\n",
       "      <td>0.32</td>\n",
       "      <td>0.77</td>\n",
       "      <td>1.319983e+11</td>\n",
       "      <td>15068300.0</td>\n",
       "      <td>5.164320e+10</td>\n",
       "      <td>0.39</td>\n",
       "      <td>0.17</td>\n",
       "      <td>0.23</td>\n",
       "    </tr>\n",
       "    <tr>\n",
       "      <th>nuclear</th>\n",
       "      <td>4.0</td>\n",
       "      <td>827450.00</td>\n",
       "      <td>7.248462e+09</td>\n",
       "      <td>6.399750e+09</td>\n",
       "      <td>3100.0</td>\n",
       "      <td>2.565095e+09</td>\n",
       "      <td>0.04</td>\n",
       "      <td>0.32</td>\n",
       "      <td>0.00</td>\n",
       "      <td>2.899385e+10</td>\n",
       "      <td>3309800.0</td>\n",
       "      <td>2.559900e+10</td>\n",
       "      <td>0.88</td>\n",
       "      <td>0.04</td>\n",
       "      <td>0.12</td>\n",
       "    </tr>\n",
       "    <tr>\n",
       "      <th>hydro</th>\n",
       "      <td>739.0</td>\n",
       "      <td>37715.83</td>\n",
       "      <td>3.303907e+08</td>\n",
       "      <td>7.711177e+07</td>\n",
       "      <td>3100.0</td>\n",
       "      <td>1.169191e+08</td>\n",
       "      <td>0.01</td>\n",
       "      <td>0.32</td>\n",
       "      <td>0.00</td>\n",
       "      <td>2.441587e+11</td>\n",
       "      <td>27872000.0</td>\n",
       "      <td>5.698560e+10</td>\n",
       "      <td>0.23</td>\n",
       "      <td>0.32</td>\n",
       "      <td>0.26</td>\n",
       "    </tr>\n",
       "    <tr>\n",
       "      <th>wind</th>\n",
       "      <td>256.0</td>\n",
       "      <td>58180.08</td>\n",
       "      <td>5.096575e+08</td>\n",
       "      <td>1.478203e+08</td>\n",
       "      <td>3100.0</td>\n",
       "      <td>1.803582e+08</td>\n",
       "      <td>0.01</td>\n",
       "      <td>0.32</td>\n",
       "      <td>0.00</td>\n",
       "      <td>1.304723e+11</td>\n",
       "      <td>14894100.0</td>\n",
       "      <td>3.784200e+10</td>\n",
       "      <td>0.29</td>\n",
       "      <td>0.17</td>\n",
       "      <td>0.17</td>\n",
       "    </tr>\n",
       "    <tr>\n",
       "      <th>solar</th>\n",
       "      <td>141.0</td>\n",
       "      <td>45094.33</td>\n",
       "      <td>3.950263e+08</td>\n",
       "      <td>5.525532e+07</td>\n",
       "      <td>4500.0</td>\n",
       "      <td>2.029245e+08</td>\n",
       "      <td>0.01</td>\n",
       "      <td>0.32</td>\n",
       "      <td>0.00</td>\n",
       "      <td>5.569871e+10</td>\n",
       "      <td>6358300.0</td>\n",
       "      <td>7.791000e+09</td>\n",
       "      <td>0.14</td>\n",
       "      <td>0.07</td>\n",
       "      <td>0.04</td>\n",
       "    </tr>\n",
       "  </tbody>\n",
       "</table>\n",
       "</div>"
      ],
      "text/plain": [
       "             number  plant_capacity_power_kw  plant_capacity_force_kwh  \\\n",
       "source                                                                   \n",
       "coal            8.0                860112.50              7.534586e+09   \n",
       "natural gas    48.0                244968.75              2.145926e+09   \n",
       "CCGT           23.0                655143.48              5.739057e+09   \n",
       "nuclear         4.0                827450.00              7.248462e+09   \n",
       "hydro         739.0                 37715.83              3.303907e+08   \n",
       "wind          256.0                 58180.08              5.096575e+08   \n",
       "solar         141.0                 45094.33              3.950263e+08   \n",
       "\n",
       "             plant_generate_force_kwh  fixed_cost_power_dollar_kW  \\\n",
       "source                                                              \n",
       "coal                     1.725150e+09                       750.0   \n",
       "natural gas              4.730250e+08                       600.0   \n",
       "CCGT                     2.245357e+09                       900.0   \n",
       "nuclear                  6.399750e+09                      3100.0   \n",
       "hydro                    7.711177e+07                      3100.0   \n",
       "wind                     1.478203e+08                      3100.0   \n",
       "solar                    5.525532e+07                      4500.0   \n",
       "\n",
       "             fixed_cost_plant_dollar  operating_cost(dollar_kWh)  \\\n",
       "source                                                             \n",
       "coal                    6.450844e+08                        0.03   \n",
       "natural gas             1.469812e+08                        0.07   \n",
       "CCGT                    5.896291e+08                        0.07   \n",
       "nuclear                 2.565095e+09                        0.04   \n",
       "hydro                   1.169191e+08                        0.01   \n",
       "wind                    1.803582e+08                        0.01   \n",
       "solar                   2.029245e+08                        0.01   \n",
       "\n",
       "             revenues(dollor_kWh)  co2(pounds_kWh)  capacity_national_kwh  \\\n",
       "source                                                                      \n",
       "coal                         0.32             2.26           6.027668e+10   \n",
       "natural gas                  0.32             0.97           1.030045e+11   \n",
       "CCGT                         0.32             0.77           1.319983e+11   \n",
       "nuclear                      0.32             0.00           2.899385e+10   \n",
       "hydro                        0.32             0.00           2.441587e+11   \n",
       "wind                         0.32             0.00           1.304723e+11   \n",
       "solar                        0.32             0.00           5.569871e+10   \n",
       "\n",
       "             capacity_national_kw  generation_national_kwh  load_factor  \\\n",
       "source                                                                    \n",
       "coal                    6880900.0             1.380120e+10         0.23   \n",
       "natural gas            11758500.0             2.270520e+10         0.22   \n",
       "CCGT                   15068300.0             5.164320e+10         0.39   \n",
       "nuclear                 3309800.0             2.559900e+10         0.88   \n",
       "hydro                  27872000.0             5.698560e+10         0.23   \n",
       "wind                   14894100.0             3.784200e+10         0.29   \n",
       "solar                   6358300.0             7.791000e+09         0.14   \n",
       "\n",
       "             capacity_%  generation_%  \n",
       "source                                 \n",
       "coal               0.08          0.06  \n",
       "natural gas        0.14          0.10  \n",
       "CCGT               0.17          0.23  \n",
       "nuclear            0.04          0.12  \n",
       "hydro              0.32          0.26  \n",
       "wind               0.17          0.17  \n",
       "solar              0.07          0.04  "
      ]
     },
     "execution_count": 9,
     "metadata": {},
     "output_type": "execute_result"
    }
   ],
   "source": [
    "parameters = pd.read_csv(\"data.csv\", index_col='source')\n",
    "parameters = parameters.astype(\"float64\")\n",
    "parameters"
   ]
  },
  {
   "cell_type": "code",
   "execution_count": 29,
   "metadata": {},
   "outputs": [
    {
     "data": {
      "text/plain": [
       "Index(['coal', 'natural gas', 'CCGT', 'nuclear', 'hydro', 'wind', 'solar'], dtype='object', name='source')"
      ]
     },
     "execution_count": 29,
     "metadata": {},
     "output_type": "execute_result"
    }
   ],
   "source": []
  },
  {
   "cell_type": "code",
   "execution_count": 10,
   "metadata": {},
   "outputs": [
    {
     "data": {
      "text/plain": [
       "source\n",
       "coal            6880900.0\n",
       "natural gas    11758500.0\n",
       "CCGT           15068300.0\n",
       "nuclear         3309800.0\n",
       "hydro          27872000.0\n",
       "wind           14894100.0\n",
       "solar           6358300.0\n",
       "Name: capacity_national_kw, dtype: float64"
      ]
     },
     "execution_count": 10,
     "metadata": {},
     "output_type": "execute_result"
    }
   ],
   "source": [
    "parameters[\"capacity_national_kw\"]"
   ]
  },
  {
   "cell_type": "code",
   "execution_count": 11,
   "metadata": {},
   "outputs": [
    {
     "name": "stdout",
     "output_type": "stream",
     "text": [
      "Shape of unit emission: (7,)\n"
     ]
    }
   ],
   "source": [
    "num_total_years = 75\n",
    "num_decision_years = 10\n",
    "unit_emission = np.array(parameters[\"co2(pounds_kWh)\"])\n",
    "print(\"Shape of unit emission:\", unit_emission.shape)\n",
    "unit_cost = np.array(parameters[\"operating_cost(dollar_kWh)\"])\n",
    "fixed_cost = np.array(parameters[\"fixed_cost_plant_dollar\"])\n",
    "yearly_demand = np.array([sum(parameters[\"generation_national_kwh\"]) for i in range(num_total_years)])\n",
    "unit_price = 0.32\n",
    "capacity_force = np.array(parameters[\"plant_capacity_force_kwh\"]) # kwh for one plant for one year\n",
    "generate_plant = np.array(parameters[\"plant_generate_force_kwh\"])\n",
    "num_plant_start = np.array(parameters[\"number\"]) # number of plants at year 0\n",
    "budget_start = 9080*10**6 # million of euros\n",
    "discount_carbon = 0.04\n",
    "discount_money = 0.1"
   ]
  },
  {
   "cell_type": "markdown",
   "metadata": {},
   "source": [
    "Set up index sets"
   ]
  },
  {
   "cell_type": "code",
   "execution_count": 12,
   "metadata": {},
   "outputs": [
    {
     "data": {
      "text/plain": [
       "1000000"
      ]
     },
     "execution_count": 12,
     "metadata": {},
     "output_type": "execute_result"
    }
   ],
   "source": [
    "10**6"
   ]
  },
  {
   "cell_type": "code",
   "execution_count": 13,
   "metadata": {},
   "outputs": [
    {
     "data": {
      "text/plain": [
       "array([2.26, 0.97, 0.77, 0.  , 0.  , 0.  , 0.  ])"
      ]
     },
     "execution_count": 13,
     "metadata": {},
     "output_type": "execute_result"
    }
   ],
   "source": [
    "unit_emission"
   ]
  },
  {
   "cell_type": "code",
   "execution_count": 14,
   "metadata": {},
   "outputs": [],
   "source": [
    "post_years = range(num_decision_years, num_total_years)  # 10-74\n",
    "sources = range(unit_emission.shape[0])  # 7\n",
    "decision_years= range(0, num_decision_years) # 0-9"
   ]
  },
  {
   "cell_type": "markdown",
   "metadata": {},
   "source": [
    "#### Set up model"
   ]
  },
  {
   "cell_type": "code",
   "execution_count": 15,
   "metadata": {},
   "outputs": [
    {
     "name": "stdout",
     "output_type": "stream",
     "text": [
      "Set parameter Username\n",
      "Academic license - for non-commercial use only - expires 2023-08-26\n"
     ]
    }
   ],
   "source": [
    "m = Model()"
   ]
  },
  {
   "cell_type": "markdown",
   "metadata": {},
   "source": [
    "Decision variables"
   ]
  },
  {
   "cell_type": "code",
   "execution_count": 16,
   "metadata": {},
   "outputs": [],
   "source": [
    "dv_num_plant = m.addVars(sources, decision_years, vtype=GRB.INTEGER, lb=0.0, name=\"num_plant\")  # 7*10\n",
    "dv_add_plant = m.addVars(sources, decision_years, vtype=GRB.INTEGER, lb=0.0, name=\"add_plant\")  # 7*10\n",
    "dv_minus_plant = m.addVars(sources, decision_years, vtype=GRB.INTEGER, lb=0.0, name=\"minus_plant\")  # 7*10\n",
    "dv_yearly_budget = m.addVars(decision_years, name=\"budget\") # 10"
   ]
  },
  {
   "cell_type": "markdown",
   "metadata": {},
   "source": [
    "Objective function"
   ]
  },
  {
   "cell_type": "code",
   "execution_count": 17,
   "metadata": {},
   "outputs": [],
   "source": [
    "# Primary Objective: NPV carbon , set negative in accordance with the MAXIMIZE model sense\n",
    "m.setObjectiveN(sum(-unit_emission[j] * generate_plant[j] * dv_num_plant[j, i]/(1 + discount_carbon)**(i+1) for i in decision_years for j in sources) + \n",
    "                sum(-unit_emission[j] * generate_plant[j] * dv_num_plant[j, num_decision_years-1]/(1 + discount_carbon)**(i+1) for i in post_years for j in sources), index=0, priority=10)\n",
    "# Objective 2: total profit = revenue - fixed cost - operating cost\n",
    "sum_revenue_before = sum(generate_plant[j]*dv_num_plant[j, i]*unit_price/(1 + discount_money)**(i+1) for i in decision_years for j in sources) \n",
    "sum_revenue_after = sum(generate_plant[j]*dv_num_plant[j, num_decision_years-1]*unit_price/(1 + discount_money)**(i+1) for i in post_years for j in sources) \n",
    "sum_revenue = sum_revenue_before + sum_revenue_after\n",
    "sum_fixed_cost = sum(fixed_cost[j]*dv_add_plant[j, i]/(1 + discount_money)**(i+1) for j in sources for i in decision_years)\n",
    "sum_operating_cost_before = sum(unit_cost[j]*generate_plant[j]*dv_num_plant[j, i]/(1 + discount_money)**(i+1) for j in sources for i in decision_years)\n",
    "sum_operating_cost_after = sum(unit_cost[j]*generate_plant[j]*dv_num_plant[j, num_decision_years-1]/(1 + discount_money)**(i+1) for j in sources for i in post_years)\n",
    "sum_operating_cost = sum_operating_cost_before + sum_operating_cost_after\n",
    "m.setObjectiveN(sum_revenue + sum_fixed_cost + sum_operating_cost, index=1, priority=5)\n",
    "m.modelSense = GRB.MAXIMIZE"
   ]
  },
  {
   "cell_type": "markdown",
   "metadata": {},
   "source": [
    "Constraints"
   ]
  },
  {
   "cell_type": "code",
   "execution_count": 18,
   "metadata": {},
   "outputs": [
    {
     "data": {
      "text/plain": [
       "array([  8.,  48.,  23.,   4., 739., 256., 141.])"
      ]
     },
     "execution_count": 18,
     "metadata": {},
     "output_type": "execute_result"
    }
   ],
   "source": [
    "num_plant_start"
   ]
  },
  {
   "cell_type": "code",
   "execution_count": 19,
   "metadata": {},
   "outputs": [],
   "source": [
    "# Definition of S = s0 + sum(x)\n",
    "for i in decision_years:\n",
    "    for j in sources:\n",
    "        m.addConstr(dv_num_plant[j, i] == num_plant_start[j] + sum(dv_add_plant[j, k] - dv_minus_plant[j, k] for k in range(0, i)))\n",
    "\n",
    "# Budget Definition\n",
    "for i in decision_years:\n",
    "    if i == 0:\n",
    "        m.addConstr(dv_yearly_budget[i] <= budget_start)\n",
    "    else:\n",
    "        profit_prev_year = yearly_demand[i-1]*unit_price\n",
    "        m.addConstr(dv_yearly_budget[i] <= profit_prev_year / (1 + discount_money))\n",
    "\n",
    "# Budget\n",
    "for i in decision_years:\n",
    "    # fixed + operating cost\n",
    "    yearly_cost = sum(fixed_cost[j]*dv_add_plant[j, i] + unit_cost[j]*generate_plant[j]*dv_num_plant[j, i] for j in sources)\n",
    "    m.addConstr(yearly_cost <= dv_yearly_budget[i])\n",
    "\n",
    "# Demand vs Capacity\n",
    "for i in decision_years:\n",
    "    m.addConstr(sum(capacity_force[j] * dv_num_plant[j, i] for j in sources) >= yearly_demand[i])\n",
    "\n",
    "# Demand vs Generate\n",
    "for i in decision_years:\n",
    "    m.addConstr(sum(generate_plant[j]*dv_num_plant[j, i] for j in sources) >= yearly_demand[i])\n",
    "\n",
    "# Generate vs Capacity\n",
    "for i in decision_years:\n",
    "    m.addConstr(sum(generate_plant[j]*dv_num_plant[j, i] for j in sources) <= sum(capacity_force[j] * dv_num_plant[j, i] for j in sources))\n",
    "\n",
    "# Can't demolish clean energy\n",
    "for j in range(3, 7):\n",
    "    for i in decision_years:\n",
    "        m.addConstr(dv_minus_plant[j, i] == 0)\n",
    "\n",
    "# Can't build nuclear any more\n",
    "for i in decision_years:\n",
    "    m.addConstr(dv_add_plant[3, i] == 0)\n"
   ]
  },
  {
   "cell_type": "markdown",
   "metadata": {},
   "source": [
    "#### Solve the model"
   ]
  },
  {
   "cell_type": "code",
   "execution_count": 20,
   "metadata": {},
   "outputs": [
    {
     "name": "stdout",
     "output_type": "stream",
     "text": [
      "Gurobi Optimizer version 9.5.2 build v9.5.2rc0 (win64)\n",
      "Thread count: 4 physical cores, 8 logical processors, using up to 8 threads\n",
      "Optimize a model with 170 rows, 220 columns and 1120 nonzeros\n",
      "Model fingerprint: 0xa5077082\n",
      "Variable types: 10 continuous, 210 integer (0 binary)\n",
      "Coefficient statistics:\n",
      "  Matrix range     [1e+00, 8e+09]\n",
      "  Objective range  [8e+06, 6e+10]\n",
      "  Bounds range     [0e+00, 0e+00]\n",
      "  RHS range        [4e+00, 2e+11]\n",
      "Warning: Model contains large matrix coefficients\n",
      "Warning: Model contains large objective coefficients\n",
      "Warning: Model contains large rhs\n",
      "         Consider reformulating model or setting NumericFocus parameter\n",
      "         to avoid numerical issues.\n",
      "\n",
      "---------------------------------------------------------------------------\n",
      "Multi-objectives: starting optimization with 2 objectives ... \n",
      "---------------------------------------------------------------------------\n",
      "\n",
      "Multi-objectives: applying initial presolve ...\n",
      "---------------------------------------------------------------------------\n",
      "\n",
      "Presolve removed 103 rows and 72 columns\n",
      "Presolve time: 0.00s\n",
      "Presolved: 67 rows and 148 columns\n",
      "---------------------------------------------------------------------------\n",
      "\n",
      "Multi-objectives: optimize objective 1 () ...\n",
      "---------------------------------------------------------------------------\n",
      "\n",
      "Presolve removed 0 rows and 20 columns\n",
      "Presolve time: 0.00s\n",
      "Presolved: 67 rows, 128 columns, 611 nonzeros\n",
      "Variable types: 0 continuous, 128 integer (0 binary)\n",
      "\n",
      "Root relaxation: objective -1.977390e+11, 41 iterations, 0.00 seconds (0.00 work units)\n",
      "\n",
      "    Nodes    |    Current Node    |     Objective Bounds      |     Work\n",
      " Expl Unexpl |  Obj  Depth IntInf | Incumbent    BestBd   Gap | It/Node Time\n",
      "\n",
      "     0     0 -1.977e+11    0   26          - -1.977e+11      -     -    0s\n",
      "H    0     0                    -2.09789e+11 -1.977e+11  5.74%     -    0s\n",
      "H    0     0                    -2.01784e+11 -1.991e+11  1.31%     -    0s\n",
      "H    0     0                    -2.00968e+11 -1.992e+11  0.87%     -    0s\n",
      "     0     0 -1.992e+11    0   24 -2.010e+11 -1.992e+11  0.87%     -    0s\n",
      "     0     2 -1.992e+11    0   24 -2.010e+11 -1.992e+11  0.87%     -    0s\n",
      "H    9     5                    -2.00218e+11 -1.995e+11  0.38%   2.2    0s\n",
      "H   49    19                    -2.00119e+11 -1.998e+11  0.15%   1.9    0s\n",
      "H   77    14                    -1.99810e+11 -1.998e+11  0.00%   1.6    0s\n",
      "\n",
      "Explored 84 nodes (183 simplex iterations) in 0.07 seconds (0.01 work units)\n",
      "Thread count was 8 (of 8 available processors)\n",
      "\n",
      "Solution count 6: -1.9981e+11 -2.00119e+11 -2.00218e+11 ... -2.09789e+11\n",
      "No other solutions better than -1.9981e+11\n",
      "\n",
      "Optimal solution found (tolerance 1.00e-04)\n",
      "Best objective -1.998097974224e+11, best bound -1.998097974224e+11, gap 0.0000%\n",
      "---------------------------------------------------------------------------\n",
      "\n",
      "Multi-objectives: optimize objective 2 () ...\n",
      "---------------------------------------------------------------------------\n",
      "\n",
      "\n",
      "Loaded user MIP start with objective 8.21457e+11\n",
      "\n",
      "Presolve removed 1 rows and 15 columns\n",
      "Presolve time: 0.00s\n",
      "Presolved: 67 rows, 133 columns, 623 nonzeros\n",
      "Variable types: 0 continuous, 133 integer (0 binary)\n",
      "Found heuristic solution: objective 8.781917e+11\n",
      "\n",
      "Root relaxation: objective 1.568505e+12, 64 iterations, 0.00 seconds (0.00 work units)\n",
      "\n",
      "    Nodes    |    Current Node    |     Objective Bounds      |     Work\n",
      " Expl Unexpl |  Obj  Depth IntInf | Incumbent    BestBd   Gap | It/Node Time\n",
      "\n",
      "     0     0 1.5685e+12    0   31 8.7819e+11 1.5685e+12  78.6%     -    0s\n",
      "H    0     0                    8.831849e+11 1.5685e+12  77.6%     -    0s\n",
      "H    0     0                    9.501991e+11 1.5685e+12  65.1%     -    0s\n",
      "H    0     0                    1.028236e+12 1.5677e+12  52.5%     -    0s\n",
      "     0     0 1.5677e+12    0   29 1.0282e+12 1.5677e+12  52.5%     -    0s\n",
      "     0     0 1.5677e+12    0   29 1.0282e+12 1.5677e+12  52.5%     -    0s\n",
      "H    0     0                    1.034263e+12 1.5677e+12  51.6%     -    0s\n",
      "H    0     0                    1.069392e+12 1.5677e+12  46.6%     -    0s\n",
      "H    0     1                    1.080536e+12 1.5677e+12  45.1%     -    0s\n",
      "     0     1 1.5677e+12    0   29 1.0805e+12 1.5677e+12  45.1%     -    0s\n",
      "H    1     2                    1.087278e+12 1.5677e+12  44.2%   1.0    0s\n",
      "H   33     8                    1.096641e+12 1.5676e+12  42.9%   2.1    0s\n",
      "H   69    49                    1.558341e+12 1.5676e+12  0.59%   2.1    0s\n",
      "H  109    56                    1.566501e+12 1.5675e+12  0.06%   1.9    0s\n",
      "H  157    69                    1.566658e+12 1.5674e+12  0.05%   1.9    0s\n",
      "H  165    69                    1.566826e+12 1.5674e+12  0.04%   1.9    0s\n",
      "H  243    86                    1.566828e+12 1.5674e+12  0.03%   1.7    0s\n",
      "H  276    86                    1.566861e+12 1.5673e+12  0.03%   1.8    0s\n",
      "H  292   112                    1.566865e+12 1.5673e+12  0.03%   1.8    0s\n",
      "H  312   112                    1.566867e+12 1.5673e+12  0.03%   1.8    0s\n",
      "H  446   168                    1.566868e+12 1.5672e+12  0.02%   1.8    0s\n",
      "H  513   168                    1.566868e+12 1.5671e+12  0.02%   1.9    0s\n",
      "H 2141   493                    1.566868e+12 1.5671e+12  0.02%   1.2    0s\n",
      "\n",
      "Cutting planes:\n",
      "  Inf proof: 1\n",
      "\n",
      "Explored 2296 nodes (2953 simplex iterations) in 0.75 seconds (0.07 work units)\n",
      "Thread count was 8 (of 8 available processors)\n",
      "\n",
      "Solution count 10: 1.56687e+12 1.56687e+12 1.56687e+12 ... 1.5665e+12\n",
      "\n",
      "Optimal solution found (tolerance 1.00e-04)\n",
      "Best objective 1.566867872271e+12, best bound 1.567015214802e+12, gap 0.0094%\n",
      "\n",
      "---------------------------------------------------------------------------\n",
      "Multi-objectives: solved in 0.76 seconds (0.07 work units), solution count 10\n",
      "\n"
     ]
    }
   ],
   "source": [
    "# Solve\n",
    "m.optimize()"
   ]
  },
  {
   "cell_type": "markdown",
   "metadata": {},
   "source": [
    "It takes 0.67 seconds to solve the model."
   ]
  },
  {
   "cell_type": "code",
   "execution_count": 21,
   "metadata": {},
   "outputs": [
    {
     "name": "stdout",
     "output_type": "stream",
     "text": [
      "Problem has 2 objectives\n",
      "Gurobi found 10 solutions\n"
     ]
    }
   ],
   "source": [
    "# get the set of variables\n",
    "x = m.getVars()\n",
    "\n",
    "# Ensure status is optimal\n",
    "assert m.Status == GRB.Status.OPTIMAL\n",
    "\n",
    "# Query number of multiple objectives, and number of solutions\n",
    "nSolutions  = m.SolCount\n",
    "nObjectives = m.NumObj\n",
    "print('Problem has', nObjectives, 'objectives')\n",
    "print('Gurobi found', nSolutions, 'solutions')\n"
   ]
  },
  {
   "cell_type": "code",
   "execution_count": 42,
   "metadata": {},
   "outputs": [
    {
     "name": "stdout",
     "output_type": "stream",
     "text": [
      "Solution 0 :  -199809797422.3535  1566867872270.9956num_plant[0,0] 8.0num_plant[0,1] 6.0num_plant[0,2] -0.0num_plant[0,3] -0.0num_plant[0,4] -0.0num_plant[0,5] -0.0num_plant[0,6] -0.0num_plant[0,7] -0.0num_plant[0,8] -0.0num_plant[0,9] 0.0num_plant[1,0] 48.0num_plant[1,1] 50.0num_plant[1,2] -0.0num_plant[1,3] -0.0num_plant[1,4] -0.0num_plant[1,5] -0.0num_plant[1,6] -0.0num_plant[1,7] -0.0num_plant[1,8] -0.0num_plant[1,9] -0.0num_plant[2,0] 23.0num_plant[2,1] 24.0num_plant[2,2] 19.0num_plant[2,3] -0.0num_plant[2,4] -0.0num_plant[2,5] -0.0num_plant[2,6] -0.0num_plant[2,7] -0.0num_plant[2,8] -0.0num_plant[2,9] -0.0num_plant[3,0] 4.0num_plant[3,1] 4.0num_plant[3,2] 4.0num_plant[3,3] 4.0num_plant[3,4] 4.0num_plant[3,5] 4.0num_plant[3,6] 4.0num_plant[3,7] 4.0num_plant[3,8] 4.0num_plant[3,9] 4.0num_plant[4,0] 739.0num_plant[4,1] 740.0num_plant[4,2] 741.0num_plant[4,3] 743.0num_plant[4,4] 745.0num_plant[4,5] 746.0num_plant[4,6] 746.0num_plant[4,7] 748.0num_plant[4,8] 749.0num_plant[4,9] 749.0num_plant[5,0] 256.0num_plant[5,1] 258.0num_plant[5,2] 563.0num_plant[5,3] 880.0num_plant[5,4] 1211.0num_plant[5,5] 1540.0num_plant[5,6] 1867.0num_plant[5,7] 2190.0num_plant[5,8] 2511.0num_plant[5,9] 2830.0num_plant[6,0] 141.0num_plant[6,1] 141.0num_plant[6,2] 141.0num_plant[6,3] 141.0num_plant[6,4] 141.0num_plant[6,5] 141.0num_plant[6,6] 141.0num_plant[6,7] 141.0num_plant[6,8] 141.0num_plant[6,9] 141.0\n",
      "Solution 1 :  -199809797422.3535  1566867736431.7534num_plant[0,0] 8.0num_plant[0,1] 6.0num_plant[0,2] -0.0num_plant[0,3] -0.0num_plant[0,4] -0.0num_plant[0,5] -0.0num_plant[0,6] -0.0num_plant[0,7] -0.0num_plant[0,8] -0.0num_plant[0,9] 0.0num_plant[1,0] 48.0num_plant[1,1] 50.0num_plant[1,2] -0.0num_plant[1,3] -0.0num_plant[1,4] -0.0num_plant[1,5] -0.0num_plant[1,6] -0.0num_plant[1,7] -0.0num_plant[1,8] -0.0num_plant[1,9] -0.0num_plant[2,0] 23.0num_plant[2,1] 24.0num_plant[2,2] 19.0num_plant[2,3] -0.0num_plant[2,4] -0.0num_plant[2,5] -0.0num_plant[2,6] -0.0num_plant[2,7] -0.0num_plant[2,8] -0.0num_plant[2,9] -0.0num_plant[3,0] 4.0num_plant[3,1] 4.0num_plant[3,2] 4.0num_plant[3,3] 4.0num_plant[3,4] 4.0num_plant[3,5] 4.0num_plant[3,6] 4.0num_plant[3,7] 4.0num_plant[3,8] 4.0num_plant[3,9] 4.0num_plant[4,0] 739.0num_plant[4,1] 740.0num_plant[4,2] 741.0num_plant[4,3] 743.0num_plant[4,4] 745.0num_plant[4,5] 746.0num_plant[4,6] 746.0num_plant[4,7] 748.0num_plant[4,8] 749.0num_plant[4,9] 749.0num_plant[5,0] 256.0num_plant[5,1] 258.0num_plant[5,2] 563.0num_plant[5,3] 880.0num_plant[5,4] 1211.0num_plant[5,5] 1540.0num_plant[5,6] 1867.0num_plant[5,7] 2190.0num_plant[5,8] 2511.0num_plant[5,9] 2830.0num_plant[6,0] 141.0num_plant[6,1] 141.0num_plant[6,2] 141.0num_plant[6,3] 141.0num_plant[6,4] 141.0num_plant[6,5] 141.0num_plant[6,6] 141.0num_plant[6,7] 141.0num_plant[6,8] 141.0num_plant[6,9] 141.0\n",
      "Solution 2 :  -199809797422.3535  1566867640463.0195num_plant[0,0] 8.0num_plant[0,1] 6.0num_plant[0,2] -0.0num_plant[0,3] -0.0num_plant[0,4] -0.0num_plant[0,5] -0.0num_plant[0,6] -0.0num_plant[0,7] -0.0num_plant[0,8] -0.0num_plant[0,9] 0.0num_plant[1,0] 48.0num_plant[1,1] 50.0num_plant[1,2] -0.0num_plant[1,3] -0.0num_plant[1,4] -0.0num_plant[1,5] -0.0num_plant[1,6] -0.0num_plant[1,7] -0.0num_plant[1,8] -0.0num_plant[1,9] -0.0num_plant[2,0] 23.0num_plant[2,1] 24.0num_plant[2,2] 19.0num_plant[2,3] -0.0num_plant[2,4] -0.0num_plant[2,5] -0.0num_plant[2,6] -0.0num_plant[2,7] -0.0num_plant[2,8] -0.0num_plant[2,9] -0.0num_plant[3,0] 4.0num_plant[3,1] 4.0num_plant[3,2] 4.0num_plant[3,3] 4.0num_plant[3,4] 4.0num_plant[3,5] 4.0num_plant[3,6] 4.0num_plant[3,7] 4.0num_plant[3,8] 4.0num_plant[3,9] 4.0num_plant[4,0] 739.0num_plant[4,1] 740.0num_plant[4,2] 741.0num_plant[4,3] 743.0num_plant[4,4] 745.0num_plant[4,5] 746.0num_plant[4,6] 746.0num_plant[4,7] 748.0num_plant[4,8] 749.0num_plant[4,9] 749.0num_plant[5,0] 256.0num_plant[5,1] 258.0num_plant[5,2] 563.0num_plant[5,3] 880.0num_plant[5,4] 1211.0num_plant[5,5] 1540.0num_plant[5,6] 1867.0num_plant[5,7] 2190.0num_plant[5,8] 2511.0num_plant[5,9] 2830.0num_plant[6,0] 141.0num_plant[6,1] 141.0num_plant[6,2] 141.0num_plant[6,3] 141.0num_plant[6,4] 141.0num_plant[6,5] 141.0num_plant[6,6] 141.0num_plant[6,7] 141.0num_plant[6,8] 141.0num_plant[6,9] 141.0\n",
      "Solution 3 :  -199809797422.3535  1566867427950.3823num_plant[0,0] 8.0num_plant[0,1] 6.0num_plant[0,2] -0.0num_plant[0,3] -0.0num_plant[0,4] -0.0num_plant[0,5] -0.0num_plant[0,6] -0.0num_plant[0,7] -0.0num_plant[0,8] -0.0num_plant[0,9] 0.0num_plant[1,0] 48.0num_plant[1,1] 50.0num_plant[1,2] -0.0num_plant[1,3] -0.0num_plant[1,4] -0.0num_plant[1,5] -0.0num_plant[1,6] -0.0num_plant[1,7] -0.0num_plant[1,8] -0.0num_plant[1,9] -0.0num_plant[2,0] 23.0num_plant[2,1] 24.0num_plant[2,2] 19.0num_plant[2,3] -0.0num_plant[2,4] -0.0num_plant[2,5] -0.0num_plant[2,6] -0.0num_plant[2,7] -0.0num_plant[2,8] -0.0num_plant[2,9] -0.0num_plant[3,0] 4.0num_plant[3,1] 4.0num_plant[3,2] 4.0num_plant[3,3] 4.0num_plant[3,4] 4.0num_plant[3,5] 4.0num_plant[3,6] 4.0num_plant[3,7] 4.0num_plant[3,8] 4.0num_plant[3,9] 4.0num_plant[4,0] 739.0num_plant[4,1] 740.0num_plant[4,2] 741.0num_plant[4,3] 743.0num_plant[4,4] 745.0num_plant[4,5] 746.0num_plant[4,6] 746.0num_plant[4,7] 748.0num_plant[4,8] 749.0num_plant[4,9] 749.0num_plant[5,0] 256.0num_plant[5,1] 258.0num_plant[5,2] 563.0num_plant[5,3] 880.0num_plant[5,4] 1211.0num_plant[5,5] 1540.0num_plant[5,6] 1867.0num_plant[5,7] 2190.0num_plant[5,8] 2511.0num_plant[5,9] 2830.0num_plant[6,0] 141.0num_plant[6,1] 141.0num_plant[6,2] 141.0num_plant[6,3] 141.0num_plant[6,4] 141.0num_plant[6,5] 141.0num_plant[6,6] 141.0num_plant[6,7] 141.0num_plant[6,8] 141.0num_plant[6,9] 141.0\n",
      "Solution 4 :  -199809797422.3535  1566864686220.5425num_plant[0,0] 8.0num_plant[0,1] 6.0num_plant[0,2] -0.0num_plant[0,3] -0.0num_plant[0,4] -0.0num_plant[0,5] -0.0num_plant[0,6] -0.0num_plant[0,7] -0.0num_plant[0,8] -0.0num_plant[0,9] 0.0num_plant[1,0] 48.0num_plant[1,1] 50.0num_plant[1,2] -0.0num_plant[1,3] -0.0num_plant[1,4] -0.0num_plant[1,5] -0.0num_plant[1,6] -0.0num_plant[1,7] -0.0num_plant[1,8] -0.0num_plant[1,9] -0.0num_plant[2,0] 23.0num_plant[2,1] 24.0num_plant[2,2] 19.0num_plant[2,3] -0.0num_plant[2,4] -0.0num_plant[2,5] -0.0num_plant[2,6] -0.0num_plant[2,7] -0.0num_plant[2,8] -0.0num_plant[2,9] -0.0num_plant[3,0] 4.0num_plant[3,1] 4.0num_plant[3,2] 4.0num_plant[3,3] 4.0num_plant[3,4] 4.0num_plant[3,5] 4.0num_plant[3,6] 4.0num_plant[3,7] 4.0num_plant[3,8] 4.0num_plant[3,9] 4.0num_plant[4,0] 739.0num_plant[4,1] 740.0num_plant[4,2] 741.0num_plant[4,3] 743.0num_plant[4,4] 745.0num_plant[4,5] 746.0num_plant[4,6] 746.0num_plant[4,7] 748.0num_plant[4,8] 749.0num_plant[4,9] 749.0num_plant[5,0] 256.0num_plant[5,1] 258.0num_plant[5,2] 563.0num_plant[5,3] 880.0num_plant[5,4] 1211.0num_plant[5,5] 1540.0num_plant[5,6] 1867.0num_plant[5,7] 2190.0num_plant[5,8] 2511.0num_plant[5,9] 2830.0num_plant[6,0] 141.0num_plant[6,1] 141.0num_plant[6,2] 141.0num_plant[6,3] 141.0num_plant[6,4] 141.0num_plant[6,5] 141.0num_plant[6,6] 141.0num_plant[6,7] 141.0num_plant[6,8] 141.0num_plant[6,9] 141.0\n",
      "Solution 5 :  -199809797422.3535  1566860627163.9277num_plant[0,0] 8.0num_plant[0,1] 6.0num_plant[0,2] -0.0num_plant[0,3] -0.0num_plant[0,4] -0.0num_plant[0,5] -0.0num_plant[0,6] -0.0num_plant[0,7] -0.0num_plant[0,8] -0.0num_plant[0,9] 0.0num_plant[1,0] 48.0num_plant[1,1] 50.0num_plant[1,2] 0.0num_plant[1,3] 0.0num_plant[1,4] 0.0num_plant[1,5] 0.0num_plant[1,6] 0.0num_plant[1,7] 0.0num_plant[1,8] 0.0num_plant[1,9] -0.0num_plant[2,0] 23.0num_plant[2,1] 24.0num_plant[2,2] 19.0num_plant[2,3] 0.0num_plant[2,4] 0.0num_plant[2,5] 0.0num_plant[2,6] 0.0num_plant[2,7] 0.0num_plant[2,8] 0.0num_plant[2,9] -0.0num_plant[3,0] 4.0num_plant[3,1] 4.0num_plant[3,2] 4.0num_plant[3,3] 4.0num_plant[3,4] 4.0num_plant[3,5] 4.0num_plant[3,6] 4.0num_plant[3,7] 4.0num_plant[3,8] 4.0num_plant[3,9] 4.0num_plant[4,0] 739.0num_plant[4,1] 740.0num_plant[4,2] 741.0num_plant[4,3] 743.0num_plant[4,4] 745.0num_plant[4,5] 746.0num_plant[4,6] 746.0num_plant[4,7] 748.0num_plant[4,8] 749.0num_plant[4,9] 749.0num_plant[5,0] 256.0num_plant[5,1] 258.0num_plant[5,2] 563.0num_plant[5,3] 880.0num_plant[5,4] 1211.0num_plant[5,5] 1540.0num_plant[5,6] 1867.0num_plant[5,7] 2190.0num_plant[5,8] 2511.0num_plant[5,9] 2830.0num_plant[6,0] 141.0num_plant[6,1] 141.0num_plant[6,2] 141.0num_plant[6,3] 141.0num_plant[6,4] 141.0num_plant[6,5] 140.99999999999966num_plant[6,6] 141.0num_plant[6,7] 141.0num_plant[6,8] 141.0num_plant[6,9] 141.0\n",
      "Solution 6 :  -199809797422.3535  1566828217750.378num_plant[0,0] 8.0num_plant[0,1] 6.0num_plant[0,2] -0.0num_plant[0,3] -0.0num_plant[0,4] -0.0num_plant[0,5] -0.0num_plant[0,6] -0.0num_plant[0,7] -0.0num_plant[0,8] -0.0num_plant[0,9] 0.0num_plant[1,0] 48.0num_plant[1,1] 50.0num_plant[1,2] -0.0num_plant[1,3] -0.0num_plant[1,4] -0.0num_plant[1,5] -0.0num_plant[1,6] -0.0num_plant[1,7] -0.0num_plant[1,8] -0.0num_plant[1,9] -0.0num_plant[2,0] 23.0num_plant[2,1] 24.0num_plant[2,2] 19.0num_plant[2,3] -0.0num_plant[2,4] -0.0num_plant[2,5] 0.0num_plant[2,6] 0.0num_plant[2,7] 0.0num_plant[2,8] -0.0num_plant[2,9] -0.0num_plant[3,0] 4.0num_plant[3,1] 4.0num_plant[3,2] 4.0num_plant[3,3] 4.0num_plant[3,4] 4.0num_plant[3,5] 4.0num_plant[3,6] 4.0num_plant[3,7] 4.0num_plant[3,8] 4.0num_plant[3,9] 4.0num_plant[4,0] 739.0num_plant[4,1] 740.0num_plant[4,2] 741.0num_plant[4,3] 743.0num_plant[4,4] 745.0num_plant[4,5] 746.0num_plant[4,6] 746.0num_plant[4,7] 746.0num_plant[4,8] 747.0num_plant[4,9] 747.0num_plant[5,0] 256.0num_plant[5,1] 258.0num_plant[5,2] 563.0num_plant[5,3] 880.0num_plant[5,4] 1211.0num_plant[5,5] 1540.0num_plant[5,6] 1867.0num_plant[5,7] 2191.0num_plant[5,8] 2512.0num_plant[5,9] 2831.0num_plant[6,0] 141.0num_plant[6,1] 141.0num_plant[6,2] 141.0num_plant[6,3] 141.0num_plant[6,4] 141.0num_plant[6,5] 141.0num_plant[6,6] 141.0num_plant[6,7] 141.0num_plant[6,8] 141.0num_plant[6,9] 141.0\n",
      "Solution 7 :  -199809797422.3535  1566826415806.229num_plant[0,0] 8.0num_plant[0,1] 6.0num_plant[0,2] -0.0num_plant[0,3] -0.0num_plant[0,4] -0.0num_plant[0,5] -0.0num_plant[0,6] -0.0num_plant[0,7] -0.0num_plant[0,8] -0.0num_plant[0,9] 0.0num_plant[1,0] 48.0num_plant[1,1] 50.0num_plant[1,2] -0.0num_plant[1,3] -0.0num_plant[1,4] -0.0num_plant[1,5] -0.0num_plant[1,6] -0.0num_plant[1,7] -0.0num_plant[1,8] -0.0num_plant[1,9] -0.0num_plant[2,0] 23.0num_plant[2,1] 24.0num_plant[2,2] 19.0num_plant[2,3] -0.0num_plant[2,4] -0.0num_plant[2,5] -0.0num_plant[2,6] -0.0num_plant[2,7] -0.0num_plant[2,8] -0.0num_plant[2,9] -0.0num_plant[3,0] 4.0num_plant[3,1] 4.0num_plant[3,2] 4.0num_plant[3,3] 4.0num_plant[3,4] 4.0num_plant[3,5] 4.0num_plant[3,6] 4.0num_plant[3,7] 4.0num_plant[3,8] 4.0num_plant[3,9] 4.0num_plant[4,0] 739.0num_plant[4,1] 740.0num_plant[4,2] 741.0num_plant[4,3] 743.0num_plant[4,4] 745.0num_plant[4,5] 746.0num_plant[4,6] 746.0num_plant[4,7] 746.0num_plant[4,8] 747.0num_plant[4,9] 747.0num_plant[5,0] 256.0num_plant[5,1] 258.0num_plant[5,2] 563.0num_plant[5,3] 880.0num_plant[5,4] 1211.0num_plant[5,5] 1540.0num_plant[5,6] 1867.0num_plant[5,7] 2191.0num_plant[5,8] 2512.0num_plant[5,9] 2831.0num_plant[6,0] 141.0num_plant[6,1] 141.0num_plant[6,2] 141.0num_plant[6,3] 141.0num_plant[6,4] 141.0num_plant[6,5] 141.0num_plant[6,6] 141.0num_plant[6,7] 141.0num_plant[6,8] 141.0num_plant[6,9] 141.0\n",
      "Solution 8 :  -199809797422.3535  1566658015816.97num_plant[0,0] 8.0num_plant[0,1] 6.0num_plant[0,2] -0.0num_plant[0,3] -0.0num_plant[0,4] -0.0num_plant[0,5] -0.0num_plant[0,6] -0.0num_plant[0,7] -0.0num_plant[0,8] -0.0num_plant[0,9] 0.0num_plant[1,0] 48.0num_plant[1,1] 50.0num_plant[1,2] -0.0num_plant[1,3] -0.0num_plant[1,4] -0.0num_plant[1,5] -0.0num_plant[1,6] -0.0num_plant[1,7] -0.0num_plant[1,8] -0.0num_plant[1,9] -0.0num_plant[2,0] 23.0num_plant[2,1] 24.0num_plant[2,2] 19.0num_plant[2,3] -0.0num_plant[2,4] -0.0num_plant[2,5] -0.0num_plant[2,6] -0.0num_plant[2,7] -0.0num_plant[2,8] -0.0num_plant[2,9] -0.0num_plant[3,0] 4.0num_plant[3,1] 4.0num_plant[3,2] 4.0num_plant[3,3] 4.0num_plant[3,4] 4.0num_plant[3,5] 4.0num_plant[3,6] 4.0num_plant[3,7] 4.0num_plant[3,8] 4.0num_plant[3,9] 4.0num_plant[4,0] 739.0num_plant[4,1] 740.0num_plant[4,2] 741.0num_plant[4,3] 742.0num_plant[4,4] 744.0num_plant[4,5] 745.0num_plant[4,6] 745.0num_plant[4,7] 745.0num_plant[4,8] 746.0num_plant[4,9] 746.0num_plant[5,0] 256.0num_plant[5,1] 258.0num_plant[5,2] 563.0num_plant[5,3] 880.0num_plant[5,4] 1211.0num_plant[5,5] 1540.0num_plant[5,6] 1867.0num_plant[5,7] 2191.0num_plant[5,8] 2512.0num_plant[5,9] 2831.0num_plant[6,0] 141.0num_plant[6,1] 141.0num_plant[6,2] 141.0num_plant[6,3] 141.0num_plant[6,4] 141.0num_plant[6,5] 141.0num_plant[6,6] 141.0num_plant[6,7] 141.0num_plant[6,8] 141.0num_plant[6,9] 141.0\n",
      "Solution 9 :  -199809797422.3535  1566500884049.264num_plant[0,0] 8.0num_plant[0,1] 6.0num_plant[0,2] 0.0num_plant[0,3] 0.0num_plant[0,4] 0.0num_plant[0,5] 0.0num_plant[0,6] 0.0num_plant[0,7] 0.0num_plant[0,8] 0.0num_plant[0,9] 0.0num_plant[1,0] 48.0num_plant[1,1] 50.0num_plant[1,2] 0.0num_plant[1,3] 0.0num_plant[1,4] 0.0num_plant[1,5] 0.0num_plant[1,6] 0.0num_plant[1,7] 0.0num_plant[1,8] 0.0num_plant[1,9] 0.0num_plant[2,0] 23.0num_plant[2,1] 24.0num_plant[2,2] 19.0num_plant[2,3] 0.0num_plant[2,4] 0.0num_plant[2,5] 0.0num_plant[2,6] 0.0num_plant[2,7] 0.0num_plant[2,8] 0.0num_plant[2,9] -0.0num_plant[3,0] 4.0num_plant[3,1] 4.0num_plant[3,2] 4.0num_plant[3,3] 4.0num_plant[3,4] 4.0num_plant[3,5] 4.0num_plant[3,6] 4.0num_plant[3,7] 4.0num_plant[3,8] 4.0num_plant[3,9] 4.0num_plant[4,0] 739.0num_plant[4,1] 740.0num_plant[4,2] 741.0num_plant[4,3] 742.0num_plant[4,4] 743.0num_plant[4,5] 744.0num_plant[4,6] 744.0num_plant[4,7] 744.0num_plant[4,8] 745.0num_plant[4,9] 745.0num_plant[5,0] 256.0num_plant[5,1] 258.0num_plant[5,2] 563.0num_plant[5,3] 880.0num_plant[5,4] 1211.0num_plant[5,5] 1540.0num_plant[5,6] 1867.0num_plant[5,7] 2191.0num_plant[5,8] 2512.0num_plant[5,9] 2831.0num_plant[6,0] 141.0num_plant[6,1] 141.0num_plant[6,2] 141.0num_plant[6,3] 141.0num_plant[6,4] 141.0num_plant[6,5] 141.0num_plant[6,6] 141.0num_plant[6,7] 141.0num_plant[6,8] 141.0num_plant[6,9] 141.0\n"
     ]
    }
   ],
   "source": [
    "# For each solution, print value of first three variables, and\n",
    "# value for each objective function\n",
    "solutions = []\n",
    "for s in range(nSolutions):\n",
    "  # Set which solution we will query from now on\n",
    "  m.params.SolutionNumber = s\n",
    "  \n",
    "  # Print objective value of this solution in each objective\n",
    "  print('Solution', s, ':', end='')\n",
    "  for o in range(nObjectives):\n",
    "    # Set which objective we will query\n",
    "    m.params.ObjNumber = o\n",
    "    # Query the o-th objective value\n",
    "    print(' ',m.ObjNVal, end='')\n",
    "\n",
    "  # print first three variables in the solution\n",
    "  columns= parameters.index\n",
    "  solution = {columns[i]:[] for i in range(len(columns))}\n",
    "  n = min(len(x),70)\n",
    "  for j in range(n):\n",
    "    \n",
    "    index = j // 10\n",
    "    \n",
    "    solution[columns[index]].append(x[j].Xn)\n",
    "    print(x[j].VarName, x[j].Xn, end='')\n",
    "  print('')\n",
    "  \n",
    "  solution_df = pd.DataFrame(data = solution, columns = parameters.index ,index=[str(x)+\"year\" for x in range(2021,2031)])\n",
    "  solution_df.to_excel(\"./solution{}.xlsx\".format(s))\n",
    "  # query the full vector of the o-th solution\n",
    "  solutions.append(m.getAttr('Xn',x))\n"
   ]
  }
 ],
 "metadata": {
  "kernelspec": {
   "display_name": "Python 3.9.7 ('28893')",
   "language": "python",
   "name": "python3"
  },
  "language_info": {
   "codemirror_mode": {
    "name": "ipython",
    "version": 3
   },
   "file_extension": ".py",
   "mimetype": "text/x-python",
   "name": "python",
   "nbconvert_exporter": "python",
   "pygments_lexer": "ipython3",
   "version": "3.9.7"
  },
  "orig_nbformat": 4,
  "vscode": {
   "interpreter": {
    "hash": "22a65156b45a007276aa87b72d5a1fad74ffa9f205ed1965056763139c0f3834"
   }
  }
 },
 "nbformat": 4,
 "nbformat_minor": 2
}
