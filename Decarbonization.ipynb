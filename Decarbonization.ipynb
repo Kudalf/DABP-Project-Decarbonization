{
 "cells": [
  {
   "cell_type": "markdown",
   "metadata": {},
   "source": [
    "# Decarbonization Projcet\n"
   ]
  },
  {
   "cell_type": "markdown",
   "metadata": {},
   "source": [
    "# Model Implementation"
   ]
  },
  {
   "cell_type": "markdown",
   "metadata": {},
   "source": [
    "#### Preparations"
   ]
  },
  {
   "cell_type": "markdown",
   "metadata": {},
   "source": [
    "Import packages"
   ]
  },
  {
   "cell_type": "code",
   "execution_count": 181,
   "metadata": {},
   "outputs": [],
   "source": [
    "from gurobipy import *\n",
    "import numpy as np\n",
    "import pandas as pd\n",
    "import seaborn as sns\n",
    "from matplotlib import pyplot as plt"
   ]
  },
  {
   "cell_type": "markdown",
   "metadata": {},
   "source": [
    "Load parameters\n"
   ]
  },
  {
   "cell_type": "code",
   "execution_count": 182,
   "metadata": {},
   "outputs": [
    {
     "data": {
      "text/html": [
       "<div>\n",
       "<style scoped>\n",
       "    .dataframe tbody tr th:only-of-type {\n",
       "        vertical-align: middle;\n",
       "    }\n",
       "\n",
       "    .dataframe tbody tr th {\n",
       "        vertical-align: top;\n",
       "    }\n",
       "\n",
       "    .dataframe thead th {\n",
       "        text-align: right;\n",
       "    }\n",
       "</style>\n",
       "<table border=\"1\" class=\"dataframe\">\n",
       "  <thead>\n",
       "    <tr style=\"text-align: right;\">\n",
       "      <th></th>\n",
       "      <th>number</th>\n",
       "      <th>plant_capacity_power_kw</th>\n",
       "      <th>plant_capacity_force_kwh</th>\n",
       "      <th>plant_generate_force_kwh</th>\n",
       "      <th>fixed_cost_power_dollar_kW</th>\n",
       "      <th>fixed_cost_plant_dollar</th>\n",
       "      <th>operating_cost(dollar_kWh)</th>\n",
       "      <th>revenues(dollor_kWh)</th>\n",
       "      <th>co2(pounds_kWh)</th>\n",
       "      <th>capacity_national_kwh</th>\n",
       "      <th>capacity_national_kw</th>\n",
       "      <th>generation_national_kwh</th>\n",
       "      <th>load_factor</th>\n",
       "      <th>capacity_%</th>\n",
       "      <th>generation_%</th>\n",
       "    </tr>\n",
       "    <tr>\n",
       "      <th>source</th>\n",
       "      <th></th>\n",
       "      <th></th>\n",
       "      <th></th>\n",
       "      <th></th>\n",
       "      <th></th>\n",
       "      <th></th>\n",
       "      <th></th>\n",
       "      <th></th>\n",
       "      <th></th>\n",
       "      <th></th>\n",
       "      <th></th>\n",
       "      <th></th>\n",
       "      <th></th>\n",
       "      <th></th>\n",
       "      <th></th>\n",
       "    </tr>\n",
       "  </thead>\n",
       "  <tbody>\n",
       "    <tr>\n",
       "      <th>coal</th>\n",
       "      <td>8.0</td>\n",
       "      <td>860112.50</td>\n",
       "      <td>7.534586e+09</td>\n",
       "      <td>1.725150e+09</td>\n",
       "      <td>750.0</td>\n",
       "      <td>6.450844e+08</td>\n",
       "      <td>0.03</td>\n",
       "      <td>0.32</td>\n",
       "      <td>2.26</td>\n",
       "      <td>6.027668e+10</td>\n",
       "      <td>6880900.0</td>\n",
       "      <td>1.380120e+10</td>\n",
       "      <td>0.23</td>\n",
       "      <td>0.08</td>\n",
       "      <td>0.06</td>\n",
       "    </tr>\n",
       "    <tr>\n",
       "      <th>natural gas</th>\n",
       "      <td>48.0</td>\n",
       "      <td>244968.75</td>\n",
       "      <td>2.145926e+09</td>\n",
       "      <td>4.730250e+08</td>\n",
       "      <td>600.0</td>\n",
       "      <td>1.469812e+08</td>\n",
       "      <td>0.07</td>\n",
       "      <td>0.32</td>\n",
       "      <td>0.97</td>\n",
       "      <td>1.030045e+11</td>\n",
       "      <td>11758500.0</td>\n",
       "      <td>2.270520e+10</td>\n",
       "      <td>0.22</td>\n",
       "      <td>0.14</td>\n",
       "      <td>0.10</td>\n",
       "    </tr>\n",
       "    <tr>\n",
       "      <th>CCGT</th>\n",
       "      <td>23.0</td>\n",
       "      <td>655143.48</td>\n",
       "      <td>5.739057e+09</td>\n",
       "      <td>2.245357e+09</td>\n",
       "      <td>900.0</td>\n",
       "      <td>5.896291e+08</td>\n",
       "      <td>0.07</td>\n",
       "      <td>0.32</td>\n",
       "      <td>0.77</td>\n",
       "      <td>1.319983e+11</td>\n",
       "      <td>15068300.0</td>\n",
       "      <td>5.164320e+10</td>\n",
       "      <td>0.39</td>\n",
       "      <td>0.17</td>\n",
       "      <td>0.23</td>\n",
       "    </tr>\n",
       "    <tr>\n",
       "      <th>nuclear</th>\n",
       "      <td>4.0</td>\n",
       "      <td>827450.00</td>\n",
       "      <td>7.248462e+09</td>\n",
       "      <td>6.399750e+09</td>\n",
       "      <td>3100.0</td>\n",
       "      <td>2.565095e+09</td>\n",
       "      <td>0.04</td>\n",
       "      <td>0.32</td>\n",
       "      <td>0.00</td>\n",
       "      <td>2.899385e+10</td>\n",
       "      <td>3309800.0</td>\n",
       "      <td>2.559900e+10</td>\n",
       "      <td>0.88</td>\n",
       "      <td>0.04</td>\n",
       "      <td>0.12</td>\n",
       "    </tr>\n",
       "    <tr>\n",
       "      <th>hydro</th>\n",
       "      <td>739.0</td>\n",
       "      <td>37715.83</td>\n",
       "      <td>3.303907e+08</td>\n",
       "      <td>7.711177e+07</td>\n",
       "      <td>3100.0</td>\n",
       "      <td>1.169191e+08</td>\n",
       "      <td>0.01</td>\n",
       "      <td>0.32</td>\n",
       "      <td>0.00</td>\n",
       "      <td>2.441587e+11</td>\n",
       "      <td>27872000.0</td>\n",
       "      <td>5.698560e+10</td>\n",
       "      <td>0.23</td>\n",
       "      <td>0.32</td>\n",
       "      <td>0.26</td>\n",
       "    </tr>\n",
       "    <tr>\n",
       "      <th>wind</th>\n",
       "      <td>256.0</td>\n",
       "      <td>58180.08</td>\n",
       "      <td>5.096575e+08</td>\n",
       "      <td>1.478203e+08</td>\n",
       "      <td>3100.0</td>\n",
       "      <td>1.803582e+08</td>\n",
       "      <td>0.01</td>\n",
       "      <td>0.32</td>\n",
       "      <td>0.00</td>\n",
       "      <td>1.304723e+11</td>\n",
       "      <td>14894100.0</td>\n",
       "      <td>3.784200e+10</td>\n",
       "      <td>0.29</td>\n",
       "      <td>0.17</td>\n",
       "      <td>0.17</td>\n",
       "    </tr>\n",
       "    <tr>\n",
       "      <th>solar</th>\n",
       "      <td>141.0</td>\n",
       "      <td>45094.33</td>\n",
       "      <td>3.950263e+08</td>\n",
       "      <td>5.525532e+07</td>\n",
       "      <td>4500.0</td>\n",
       "      <td>2.029245e+08</td>\n",
       "      <td>0.01</td>\n",
       "      <td>0.32</td>\n",
       "      <td>0.00</td>\n",
       "      <td>5.569871e+10</td>\n",
       "      <td>6358300.0</td>\n",
       "      <td>7.791000e+09</td>\n",
       "      <td>0.14</td>\n",
       "      <td>0.07</td>\n",
       "      <td>0.04</td>\n",
       "    </tr>\n",
       "  </tbody>\n",
       "</table>\n",
       "</div>"
      ],
      "text/plain": [
       "             number  plant_capacity_power_kw  plant_capacity_force_kwh  \\\n",
       "source                                                                   \n",
       "coal            8.0                860112.50              7.534586e+09   \n",
       "natural gas    48.0                244968.75              2.145926e+09   \n",
       "CCGT           23.0                655143.48              5.739057e+09   \n",
       "nuclear         4.0                827450.00              7.248462e+09   \n",
       "hydro         739.0                 37715.83              3.303907e+08   \n",
       "wind          256.0                 58180.08              5.096575e+08   \n",
       "solar         141.0                 45094.33              3.950263e+08   \n",
       "\n",
       "             plant_generate_force_kwh  fixed_cost_power_dollar_kW  \\\n",
       "source                                                              \n",
       "coal                     1.725150e+09                       750.0   \n",
       "natural gas              4.730250e+08                       600.0   \n",
       "CCGT                     2.245357e+09                       900.0   \n",
       "nuclear                  6.399750e+09                      3100.0   \n",
       "hydro                    7.711177e+07                      3100.0   \n",
       "wind                     1.478203e+08                      3100.0   \n",
       "solar                    5.525532e+07                      4500.0   \n",
       "\n",
       "             fixed_cost_plant_dollar  operating_cost(dollar_kWh)  \\\n",
       "source                                                             \n",
       "coal                    6.450844e+08                        0.03   \n",
       "natural gas             1.469812e+08                        0.07   \n",
       "CCGT                    5.896291e+08                        0.07   \n",
       "nuclear                 2.565095e+09                        0.04   \n",
       "hydro                   1.169191e+08                        0.01   \n",
       "wind                    1.803582e+08                        0.01   \n",
       "solar                   2.029245e+08                        0.01   \n",
       "\n",
       "             revenues(dollor_kWh)  co2(pounds_kWh)  capacity_national_kwh  \\\n",
       "source                                                                      \n",
       "coal                         0.32             2.26           6.027668e+10   \n",
       "natural gas                  0.32             0.97           1.030045e+11   \n",
       "CCGT                         0.32             0.77           1.319983e+11   \n",
       "nuclear                      0.32             0.00           2.899385e+10   \n",
       "hydro                        0.32             0.00           2.441587e+11   \n",
       "wind                         0.32             0.00           1.304723e+11   \n",
       "solar                        0.32             0.00           5.569871e+10   \n",
       "\n",
       "             capacity_national_kw  generation_national_kwh  load_factor  \\\n",
       "source                                                                    \n",
       "coal                    6880900.0             1.380120e+10         0.23   \n",
       "natural gas            11758500.0             2.270520e+10         0.22   \n",
       "CCGT                   15068300.0             5.164320e+10         0.39   \n",
       "nuclear                 3309800.0             2.559900e+10         0.88   \n",
       "hydro                  27872000.0             5.698560e+10         0.23   \n",
       "wind                   14894100.0             3.784200e+10         0.29   \n",
       "solar                   6358300.0             7.791000e+09         0.14   \n",
       "\n",
       "             capacity_%  generation_%  \n",
       "source                                 \n",
       "coal               0.08          0.06  \n",
       "natural gas        0.14          0.10  \n",
       "CCGT               0.17          0.23  \n",
       "nuclear            0.04          0.12  \n",
       "hydro              0.32          0.26  \n",
       "wind               0.17          0.17  \n",
       "solar              0.07          0.04  "
      ]
     },
     "execution_count": 182,
     "metadata": {},
     "output_type": "execute_result"
    }
   ],
   "source": [
    "parameters = pd.read_csv(\"data.csv\", index_col='source')\n",
    "parameters = parameters.astype(\"float64\")\n",
    "df_demands = pd.read_csv(\"demand for electricity\\demand_prediction.csv\")\n",
    "parameters\n",
    "df_demands[\"predict\"]\n",
    "parameters"
   ]
  },
  {
   "cell_type": "code",
   "execution_count": 183,
   "metadata": {},
   "outputs": [
    {
     "data": {
      "text/plain": [
       "source\n",
       "coal            6880900.0\n",
       "natural gas    11758500.0\n",
       "CCGT           15068300.0\n",
       "nuclear         3309800.0\n",
       "hydro          27872000.0\n",
       "wind           14894100.0\n",
       "solar           6358300.0\n",
       "Name: capacity_national_kw, dtype: float64"
      ]
     },
     "execution_count": 183,
     "metadata": {},
     "output_type": "execute_result"
    }
   ],
   "source": [
    "parameters[\"capacity_national_kw\"]"
   ]
  },
  {
   "cell_type": "code",
   "execution_count": 184,
   "metadata": {},
   "outputs": [
    {
     "name": "stdout",
     "output_type": "stream",
     "text": [
      "Shape of unit emission: (7,)\n"
     ]
    }
   ],
   "source": [
    "num_total_years = 75\n",
    "num_decision_years = 10\n",
    "unit_emission = np.array(parameters[\"co2(pounds_kWh)\"])\n",
    "print(\"Shape of unit emission:\", unit_emission.shape)\n",
    "unit_cost = np.array(parameters[\"operating_cost(dollar_kWh)\"])\n",
    "fixed_cost = np.array(parameters[\"fixed_cost_plant_dollar\"])\n",
    "yearly_demand = np.array([sum(parameters[\"generation_national_kwh\"]) for i in range(num_total_years)])\n",
    "unit_price = 0.32\n",
    "capacity_force = np.array(parameters[\"plant_capacity_force_kwh\"]) # kwh for one plant for one year\n",
    "generate_plant = np.array(parameters[\"plant_generate_force_kwh\"])\n",
    "num_plant_start = np.array(parameters[\"number\"]) # number of plants at year 0\n",
    "budget_start = 9080*10**6 # million of euros\n",
    "discount_carbon = 0.04\n",
    "discount_money = 0.1"
   ]
  },
  {
   "cell_type": "markdown",
   "metadata": {},
   "source": [
    "Set up index sets"
   ]
  },
  {
   "cell_type": "code",
   "execution_count": 185,
   "metadata": {},
   "outputs": [
    {
     "data": {
      "text/plain": [
       "1000000"
      ]
     },
     "execution_count": 185,
     "metadata": {},
     "output_type": "execute_result"
    }
   ],
   "source": [
    "10**6"
   ]
  },
  {
   "cell_type": "code",
   "execution_count": 186,
   "metadata": {},
   "outputs": [
    {
     "data": {
      "text/plain": [
       "array([2.26, 0.97, 0.77, 0.  , 0.  , 0.  , 0.  ])"
      ]
     },
     "execution_count": 186,
     "metadata": {},
     "output_type": "execute_result"
    }
   ],
   "source": [
    "unit_emission"
   ]
  },
  {
   "cell_type": "code",
   "execution_count": 187,
   "metadata": {},
   "outputs": [],
   "source": [
    "post_years = range(num_decision_years, num_total_years)  # 10-74\n",
    "sources = range(unit_emission.shape[0])  # 7\n",
    "decision_years= range(0, num_decision_years) # 0-9"
   ]
  },
  {
   "cell_type": "markdown",
   "metadata": {},
   "source": [
    "#### Set up model"
   ]
  },
  {
   "cell_type": "code",
   "execution_count": 188,
   "metadata": {},
   "outputs": [],
   "source": [
    "m = Model()"
   ]
  },
  {
   "cell_type": "markdown",
   "metadata": {},
   "source": [
    "Decision variables"
   ]
  },
  {
   "cell_type": "code",
   "execution_count": 189,
   "metadata": {},
   "outputs": [],
   "source": [
    "dv_num_plant = m.addVars(sources, decision_years, vtype=GRB.INTEGER, lb=0.0, name=\"num_plant\")  # 7*10\n",
    "dv_add_plant = m.addVars(sources, decision_years, vtype=GRB.INTEGER, lb=0.0, name=\"add_plant\")  # 7*10\n",
    "dv_minus_plant = m.addVars(sources, decision_years, vtype=GRB.INTEGER, lb=0.0, name=\"minus_plant\")  # 7*10\n",
    "dv_yearly_budget = m.addVars(decision_years, name=\"budget\") # 10"
   ]
  },
  {
   "cell_type": "markdown",
   "metadata": {},
   "source": [
    "Objective function"
   ]
  },
  {
   "cell_type": "code",
   "execution_count": 190,
   "metadata": {},
   "outputs": [],
   "source": [
    "# Primary Objective: NPV carbon , set negative in accordance with the MAXIMIZE model sense\n",
    "m.setObjectiveN(sum(-unit_emission[j] * generate_plant[j] * dv_num_plant[j, i]/(1 + discount_carbon)**(i+1) for i in decision_years for j in sources) + \n",
    "                sum(-unit_emission[j] * generate_plant[j] * dv_num_plant[j, num_decision_years-1]/(1 + discount_carbon)**(i+1) for i in post_years for j in sources), index=0, priority=10)\n",
    "# Objective 2: total profit = revenue - fixed cost - operating cost\n",
    "sum_revenue_before = sum(generate_plant[j]*dv_num_plant[j, i]*unit_price/(1 + discount_money)**(i+1) for i in decision_years for j in sources) \n",
    "sum_revenue_after = sum(generate_plant[j]*dv_num_plant[j, num_decision_years-1]*unit_price/(1 + discount_money)**(i+1) for i in post_years for j in sources) \n",
    "sum_revenue = sum_revenue_before + sum_revenue_after\n",
    "sum_fixed_cost = sum(fixed_cost[j]*dv_add_plant[j, i]/(1 + discount_money)**(i+1) for j in sources for i in decision_years)\n",
    "sum_operating_cost_before = sum(unit_cost[j]*generate_plant[j]*dv_num_plant[j, i]/(1 + discount_money)**(i+1) for j in sources for i in decision_years)\n",
    "sum_operating_cost_after = sum(unit_cost[j]*generate_plant[j]*dv_num_plant[j, num_decision_years-1]/(1 + discount_money)**(i+1) for j in sources for i in post_years)\n",
    "sum_operating_cost = sum_operating_cost_before + sum_operating_cost_after\n",
    "m.setObjectiveN(sum_revenue - sum_fixed_cost - sum_operating_cost, index=1, priority=10)\n",
    "m.modelSense = GRB.MAXIMIZE\n",
    "# m.setParam('PoolSolutions',50)\n",
    "\n",
    "\n"
   ]
  },
  {
   "cell_type": "markdown",
   "metadata": {},
   "source": [
    "Constraints"
   ]
  },
  {
   "cell_type": "code",
   "execution_count": 191,
   "metadata": {},
   "outputs": [],
   "source": [
    "for i in range(0, 0):\n",
    "    print(i)"
   ]
  },
  {
   "cell_type": "code",
   "execution_count": 192,
   "metadata": {},
   "outputs": [],
   "source": [
    "# Definition of S = s0 + sum(x)\n",
    "for i in decision_years:\n",
    "    for j in sources:\n",
    "        m.addConstr(dv_num_plant[j, i] == num_plant_start[j] + sum(dv_add_plant[j, k] - dv_minus_plant[j, k] for k in range(0, i + 1)))\n",
    "\n",
    "# Budget Definition\n",
    "for i in decision_years:\n",
    "    if i == 0:\n",
    "        m.addConstr(dv_yearly_budget[i] <= budget_start)\n",
    "    else:\n",
    "        # last year's revenue - cost\n",
    "        profit_prev_year = yearly_demand[i-1]*unit_price - sum(fixed_cost[j]*dv_add_plant[j, i-1] + unit_cost[j]*generate_plant[j]*dv_num_plant[j, i-1] for j in sources)\n",
    "        m.addConstr(dv_yearly_budget[i] <= profit_prev_year / (1 + discount_money))\n",
    "\n",
    "# Budget\n",
    "for i in decision_years:\n",
    "    # fixed + operating cost\n",
    "    yearly_cost = sum(fixed_cost[j]*dv_add_plant[j, i] + unit_cost[j]*generate_plant[j]*dv_num_plant[j, i] for j in sources)\n",
    "    m.addConstr(yearly_cost <= dv_yearly_budget[i])\n",
    "\n",
    "# Demand vs Capacity\n",
    "for i in decision_years:\n",
    "    m.addConstr(sum(capacity_force[j] * dv_num_plant[j, i] for j in sources) >= yearly_demand[i])\n",
    "\n",
    "# Demand vs Generate\n",
    "for i in decision_years:\n",
    "    m.addConstr(sum(generate_plant[j]*dv_num_plant[j, i] for j in sources) >= yearly_demand[i])\n",
    "\n",
    "# Generate vs Capacity\n",
    "for i in decision_years:\n",
    "    m.addConstr(sum(generate_plant[j]*dv_num_plant[j, i] for j in sources) <= sum(capacity_force[j] * dv_num_plant[j, i] for j in sources))\n",
    "\n",
    "# Diversity, if one energy fails, the capacity of other sources should satisfy 75% of demand\n",
    "for i in decision_years:\n",
    "    for j in sources:\n",
    "        m.addConstr(sum(generate_plant[j]*dv_num_plant[j, i] for j in sources) - generate_plant[j]*dv_num_plant[j, i]>= 0.75*yearly_demand[i])\n",
    "\n",
    "# Can't demolish clean energy\n",
    "# for j in range(3, 7):\n",
    "#     for i in decision_years:\n",
    "#         m.addConstr(dv_minus_plant[j, i] == 0)\n",
    "\n",
    "# Can't build nuclear any more\n",
    "for i in decision_years:\n",
    "    m.addConstr(dv_add_plant[3, i] == 0)\n"
   ]
  },
  {
   "cell_type": "markdown",
   "metadata": {},
   "source": [
    "#### Solve the model"
   ]
  },
  {
   "cell_type": "code",
   "execution_count": 193,
   "metadata": {},
   "outputs": [
    {
     "name": "stdout",
     "output_type": "stream",
     "text": [
      "Gurobi Optimizer version 9.5.2 build v9.5.2rc0 (win64)\n",
      "Thread count: 4 physical cores, 8 logical processors, using up to 8 threads\n",
      "Optimize a model with 200 rows, 220 columns and 1766 nonzeros\n",
      "Model fingerprint: 0x610a8387\n",
      "Variable types: 10 continuous, 210 integer (0 binary)\n",
      "Coefficient statistics:\n",
      "  Matrix range     [1e+00, 8e+09]\n",
      "  Objective range  [7e+06, 6e+10]\n",
      "  Bounds range     [0e+00, 0e+00]\n",
      "  RHS range        [4e+00, 2e+11]\n",
      "Warning: Model contains large matrix coefficients\n",
      "Warning: Model contains large objective coefficients\n",
      "Warning: Model contains large rhs\n",
      "         Consider reformulating model or setting NumericFocus parameter\n",
      "         to avoid numerical issues.\n",
      "\n",
      "---------------------------------------------------------------------------\n",
      "Multi-objectives: starting optimization with 2 objectives (1 combined) ...\n",
      "---------------------------------------------------------------------------\n",
      "---------------------------------------------------------------------------\n",
      "\n",
      "Multi-objectives: optimize objective 1 (weighted) ...\n",
      "---------------------------------------------------------------------------\n",
      "\n",
      "Optimize a model with 200 rows, 220 columns and 1766 nonzeros\n",
      "Model fingerprint: 0xe63b4de7\n",
      "Variable types: 10 continuous, 210 integer (0 binary)\n",
      "Coefficient statistics:\n",
      "  Matrix range     [1e+00, 8e+09]\n",
      "  Objective range  [7e+06, 6e+10]\n",
      "  Bounds range     [0e+00, 0e+00]\n",
      "  RHS range        [4e+00, 2e+11]\n",
      "Warning: Model contains large matrix coefficients\n",
      "Warning: Model contains large objective coefficients\n",
      "Warning: Model contains large rhs\n",
      "         Consider reformulating model or setting NumericFocus parameter\n",
      "         to avoid numerical issues.\n",
      "Presolve removed 57 rows and 29 columns\n",
      "Presolve time: 0.00s\n",
      "Presolved: 143 rows, 191 columns, 1401 nonzeros\n",
      "Variable types: 0 continuous, 191 integer (0 binary)\n",
      "\n",
      "Root relaxation: objective 4.372107e+11, 134 iterations, 0.00 seconds (0.00 work units)\n",
      "\n",
      "    Nodes    |    Current Node    |     Objective Bounds      |     Work\n",
      " Expl Unexpl |  Obj  Depth IntInf | Incumbent    BestBd   Gap | It/Node Time\n",
      "\n",
      "     0     0 4.3721e+11    0   58          - 4.3721e+11      -     -    0s\n",
      "H    0     0                    4.163669e+11 4.3670e+11  4.88%     -    0s\n",
      "H    0     0                    4.167937e+11 4.3670e+11  4.78%     -    0s\n",
      "     0     0 4.3670e+11    0   58 4.1679e+11 4.3670e+11  4.78%     -    0s\n",
      "H    0     0                    4.267338e+11 4.3670e+11  2.34%     -    0s\n",
      "H    0     0                    4.267899e+11 4.3670e+11  2.32%     -    0s\n",
      "H    0     0                    4.316291e+11 4.3670e+11  1.17%     -    0s\n",
      "     0     0 4.3670e+11    0   56 4.3163e+11 4.3670e+11  1.17%     -    0s\n",
      "     0     0 4.3610e+11    0   56 4.3163e+11 4.3610e+11  1.04%     -    0s\n",
      "     0     0 4.3523e+11    0   55 4.3163e+11 4.3523e+11  0.83%     -    0s\n",
      "H    0     0                    4.316559e+11 4.3492e+11  0.76%     -    0s\n",
      "     0     0 4.3490e+11    0   54 4.3166e+11 4.3490e+11  0.75%     -    0s\n",
      "     0     0 4.3490e+11    0   54 4.3166e+11 4.3490e+11  0.75%     -    0s\n",
      "H    0     0                    4.336891e+11 4.3490e+11  0.28%     -    0s\n",
      "     0     2 4.3490e+11    0   54 4.3369e+11 4.3490e+11  0.28%     -    0s\n",
      "H  109    61                    4.337185e+11 4.3468e+11  0.22%   1.9    0s\n",
      "H  115    61                    4.337890e+11 4.3468e+11  0.21%   1.8    0s\n",
      "H  166    48                    4.339026e+11 4.3451e+11  0.14%   2.0    0s\n",
      "\n",
      "Cutting planes:\n",
      "  StrongCG: 1\n",
      "\n",
      "Explored 612 nodes (1594 simplex iterations) in 0.26 seconds (0.08 work units)\n",
      "Thread count was 8 (of 8 available processors)\n",
      "\n",
      "Solution count 10: 4.33903e+11 4.33789e+11 4.33719e+11 ... 4.16367e+11\n",
      "\n",
      "Optimal solution found (tolerance 1.00e-04)\n",
      "Best objective 4.339025739620e+11, best bound 4.339429549305e+11, gap 0.0093%\n",
      "\n",
      "---------------------------------------------------------------------------\n",
      "Multi-objectives: solved in 0.27 seconds (0.08 work units), solution count 5\n",
      "\n"
     ]
    }
   ],
   "source": [
    "# Solve\n",
    "m.optimize()"
   ]
  },
  {
   "cell_type": "code",
   "execution_count": 194,
   "metadata": {},
   "outputs": [
    {
     "name": "stdout",
     "output_type": "stream",
     "text": [
      "Problem has 2 objectives\n",
      "Gurobi found 5 solutions\n"
     ]
    }
   ],
   "source": [
    "# get the set of variables\n",
    "x = m.getVars()\n",
    "\n",
    "# Ensure status is optimal\n",
    "assert m.Status == GRB.Status.OPTIMAL\n",
    "\n",
    "# Query number of multiple objectives, and number of solutions\n",
    "nSolutions  = m.SolCount\n",
    "nObjectives = m.NumObj\n",
    "print('Problem has', nObjectives, 'objectives')\n",
    "print('Gurobi found', nSolutions, 'solutions')\n"
   ]
  },
  {
   "cell_type": "code",
   "execution_count": 195,
   "metadata": {},
   "outputs": [
    {
     "name": "stdout",
     "output_type": "stream",
     "text": [
      "Solution 0 :  -264747145426.59973  698649719388.6447num_plant[0,0] 8.0\n",
      "\n",
      "num_plant[0,1] -0.0num_plant[0,2] -0.0num_plant[0,3] -0.0num_plant[0,4] -0.0num_plant[0,5] -0.0num_plant[0,6] -0.0num_plant[0,7] -0.0num_plant[0,8] -0.0num_plant[0,9] 0.0num_plant[1,0] 49.0\n",
      "\n",
      "num_plant[1,1] 19.0num_plant[1,2] 14.0num_plant[1,3] 3.0num_plant[1,4] -0.0num_plant[1,5] -0.0num_plant[1,6] -0.0num_plant[1,7] -0.0num_plant[1,8] -0.0num_plant[1,9] 0.0num_plant[2,0] 24.0\n",
      "\n",
      "num_plant[2,1] 24.0num_plant[2,2] 24.0num_plant[2,3] 19.0num_plant[2,4] 18.0num_plant[2,5] 11.0num_plant[2,6] 9.0num_plant[2,7] 2.0num_plant[2,8] -0.0num_plant[2,9] 0.0num_plant[3,0] 4.0\n",
      "\n",
      "num_plant[3,1] 4.0num_plant[3,2] 4.0num_plant[3,3] 4.0num_plant[3,4] 4.0num_plant[3,5] 4.0num_plant[3,6] 4.0num_plant[3,7] 4.0num_plant[3,8] 4.0num_plant[3,9] 4.0num_plant[4,0] 740.0\n",
      "\n",
      "num_plant[4,1] 857.0num_plant[4,2] 887.0num_plant[4,3] 1100.0num_plant[4,4] 1148.0num_plant[4,5] 1352.0num_plant[4,6] 1411.0num_plant[4,7] 1614.0num_plant[4,8] 1672.0num_plant[4,9] 1672.0num_plant[5,0] 258.0\n",
      "\n",
      "num_plant[5,1] 447.0num_plant[5,2] 464.0num_plant[5,3] 575.0num_plant[5,4] 605.0num_plant[5,5] 710.0num_plant[5,6] 754.0num_plant[5,7] 851.0num_plant[5,8] 914.0num_plant[5,9] 1130.0num_plant[6,0] 141.0\n",
      "\n",
      "num_plant[6,1] 141.0num_plant[6,2] 141.0num_plant[6,3] 141.0num_plant[6,4] 141.0num_plant[6,5] 141.0num_plant[6,6] 141.0num_plant[6,7] 141.0num_plant[6,8] 141.0num_plant[6,9] 141.0\n",
      "Solution 1 :  -264747145426.59973  698536158159.8209num_plant[0,0] 8.0\n",
      "\n",
      "num_plant[0,1] -0.0num_plant[0,2] -0.0num_plant[0,3] -0.0num_plant[0,4] -0.0num_plant[0,5] -0.0num_plant[0,6] -0.0num_plant[0,7] -0.0num_plant[0,8] -0.0num_plant[0,9] 0.0num_plant[1,0] 49.0\n",
      "\n",
      "num_plant[1,1] 19.0num_plant[1,2] 14.0num_plant[1,3] 3.0num_plant[1,4] -0.0num_plant[1,5] -0.0num_plant[1,6] -0.0num_plant[1,7] -0.0num_plant[1,8] -0.0num_plant[1,9] 0.0num_plant[2,0] 24.0\n",
      "\n",
      "num_plant[2,1] 24.0num_plant[2,2] 24.0num_plant[2,3] 19.0num_plant[2,4] 18.0num_plant[2,5] 11.0num_plant[2,6] 9.0num_plant[2,7] 2.0num_plant[2,8] -0.0num_plant[2,9] 0.0num_plant[3,0] 4.0\n",
      "\n",
      "num_plant[3,1] 4.0num_plant[3,2] 4.0num_plant[3,3] 4.0num_plant[3,4] 4.0num_plant[3,5] 4.0num_plant[3,6] 4.0num_plant[3,7] 4.0num_plant[3,8] 4.0num_plant[3,9] 4.0num_plant[4,0] 740.0\n",
      "\n",
      "num_plant[4,1] 857.0num_plant[4,2] 887.0num_plant[4,3] 1100.0num_plant[4,4] 1151.0num_plant[4,5] 1355.0num_plant[4,6] 1412.0num_plant[4,7] 1615.0num_plant[4,8] 1673.0num_plant[4,9] 1673.0num_plant[5,0] 258.0\n",
      "\n",
      "num_plant[5,1] 447.0num_plant[5,2] 464.0num_plant[5,3] 575.0num_plant[5,4] 603.0num_plant[5,5] 708.0num_plant[5,6] 753.0num_plant[5,7] 850.0num_plant[5,8] 913.0num_plant[5,9] 1129.0num_plant[6,0] 141.0\n",
      "\n",
      "num_plant[6,1] 141.0num_plant[6,2] 141.0num_plant[6,3] 141.0num_plant[6,4] 141.0num_plant[6,5] 141.0num_plant[6,6] 141.0num_plant[6,7] 141.0num_plant[6,8] 141.0num_plant[6,9] 141.0\n",
      "Solution 2 :  -264747145426.59973  698465693228.4008num_plant[0,0] 8.0\n",
      "\n",
      "num_plant[0,1] -0.0num_plant[0,2] -0.0num_plant[0,3] -0.0num_plant[0,4] -0.0num_plant[0,5] -0.0num_plant[0,6] -0.0num_plant[0,7] -0.0num_plant[0,8] -0.0num_plant[0,9] 0.0num_plant[1,0] 49.0\n",
      "\n",
      "num_plant[1,1] 19.0num_plant[1,2] 14.0num_plant[1,3] 3.0num_plant[1,4] -0.0num_plant[1,5] -0.0num_plant[1,6] 0.0num_plant[1,7] -0.0num_plant[1,8] -0.0num_plant[1,9] 0.0num_plant[2,0] 24.0\n",
      "\n",
      "num_plant[2,1] 24.0num_plant[2,2] 24.0num_plant[2,3] 19.0num_plant[2,4] 18.0num_plant[2,5] 11.0num_plant[2,6] 9.0num_plant[2,7] 2.0num_plant[2,8] -0.0num_plant[2,9] 0.0num_plant[3,0] 4.0\n",
      "\n",
      "num_plant[3,1] 4.0num_plant[3,2] 4.0num_plant[3,3] 4.0num_plant[3,4] 4.0num_plant[3,5] 4.0num_plant[3,6] 4.0num_plant[3,7] 4.0num_plant[3,8] 4.0num_plant[3,9] 4.0num_plant[4,0] 740.0\n",
      "\n",
      "num_plant[4,1] 857.0num_plant[4,2] 887.0num_plant[4,3] 1100.0num_plant[4,4] 1148.0num_plant[4,5] 1352.0num_plant[4,6] 1411.0num_plant[4,7] 1614.0num_plant[4,8] 1672.0num_plant[4,9] 1672.0num_plant[5,0] 258.0\n",
      "\n",
      "num_plant[5,1] 447.0num_plant[5,2] 464.0num_plant[5,3] 575.0num_plant[5,4] 604.0num_plant[5,5] 710.0num_plant[5,6] 753.0num_plant[5,7] 850.0num_plant[5,8] 913.0num_plant[5,9] 1129.0num_plant[6,0] 141.0\n",
      "\n",
      "num_plant[6,1] 141.0num_plant[6,2] 141.0num_plant[6,3] 141.0num_plant[6,4] 141.0num_plant[6,5] 141.0num_plant[6,6] 141.0num_plant[6,7] 141.0num_plant[6,8] 141.0num_plant[6,9] 141.0\n",
      "Solution 3 :  -265048397034.09302  698737453997.8362num_plant[0,0] 8.0\n",
      "\n",
      "num_plant[0,1] -0.0num_plant[0,2] -0.0num_plant[0,3] -0.0num_plant[0,4] -0.0num_plant[0,5] -0.0num_plant[0,6] -0.0num_plant[0,7] -0.0num_plant[0,8] -0.0num_plant[0,9] 0.0num_plant[1,0] 49.0\n",
      "\n",
      "num_plant[1,1] 19.0num_plant[1,2] 14.0num_plant[1,3] -0.0num_plant[1,4] -0.0num_plant[1,5] -0.0num_plant[1,6] -0.0num_plant[1,7] -0.0num_plant[1,8] -0.0num_plant[1,9] 0.0num_plant[2,0] 24.0\n",
      "\n",
      "num_plant[2,1] 24.0num_plant[2,2] 24.0num_plant[2,3] 20.0num_plant[2,4] 18.0num_plant[2,5] 11.0num_plant[2,6] 9.0num_plant[2,7] 2.0num_plant[2,8] -0.0num_plant[2,9] 0.0num_plant[3,0] 4.0\n",
      "\n",
      "num_plant[3,1] 4.0num_plant[3,2] 4.0num_plant[3,3] 4.0num_plant[3,4] 4.0num_plant[3,5] 4.0num_plant[3,6] 4.0num_plant[3,7] 4.0num_plant[3,8] 4.0num_plant[3,9] 4.0num_plant[4,0] 740.0\n",
      "\n",
      "num_plant[4,1] 857.0num_plant[4,2] 887.0num_plant[4,3] 1100.0num_plant[4,4] 1152.0num_plant[4,5] 1355.0num_plant[4,6] 1412.0num_plant[4,7] 1614.0num_plant[4,8] 1672.0num_plant[4,9] 1672.0num_plant[5,0] 258.0\n",
      "\n",
      "num_plant[5,1] 447.0num_plant[5,2] 464.0num_plant[5,3] 575.0num_plant[5,4] 602.0num_plant[5,5] 708.0num_plant[5,6] 753.0num_plant[5,7] 851.0num_plant[5,8] 913.0num_plant[5,9] 1130.0num_plant[6,0] 141.0\n",
      "\n",
      "num_plant[6,1] 141.0num_plant[6,2] 141.0num_plant[6,3] 141.0num_plant[6,4] 141.0num_plant[6,5] 141.0num_plant[6,6] 141.0num_plant[6,7] 141.0num_plant[6,8] 141.0num_plant[6,9] 141.0\n",
      "Solution 4 :  -266321703847.00552  697950835721.483num_plant[0,0] 8.0\n",
      "\n",
      "num_plant[0,1] -0.0num_plant[0,2] -0.0num_plant[0,3] -0.0num_plant[0,4] -0.0num_plant[0,5] -0.0num_plant[0,6] -0.0num_plant[0,7] -0.0num_plant[0,8] -0.0num_plant[0,9] -0.0num_plant[1,0] 50.0\n",
      "\n",
      "num_plant[1,1] 20.0num_plant[1,2] 15.0num_plant[1,3] -0.0num_plant[1,4] -0.0num_plant[1,5] -0.0num_plant[1,6] -0.0num_plant[1,7] -0.0num_plant[1,8] -0.0num_plant[1,9] -0.0num_plant[2,0] 24.0\n",
      "\n",
      "num_plant[2,1] 24.0num_plant[2,2] 24.0num_plant[2,3] 20.0num_plant[2,4] 18.0num_plant[2,5] 11.0num_plant[2,6] 9.0num_plant[2,7] 2.0num_plant[2,8] -0.0num_plant[2,9] -0.0num_plant[3,0] 4.0\n",
      "\n",
      "num_plant[3,1] 4.0num_plant[3,2] 4.0num_plant[3,3] 4.0num_plant[3,4] 4.0num_plant[3,5] 4.0num_plant[3,6] 4.0num_plant[3,7] 4.0num_plant[3,8] 4.0num_plant[3,9] 4.0num_plant[4,0] 739.0\n",
      "\n",
      "num_plant[4,1] 855.0num_plant[4,2] 887.0num_plant[4,3] 1102.0num_plant[4,4] 1152.0num_plant[4,5] 1355.0num_plant[4,6] 1425.0num_plant[4,7] 1623.0num_plant[4,8] 1673.0num_plant[4,9] 1673.0num_plant[5,0] 256.0\n",
      "\n",
      "num_plant[5,1] 447.0num_plant[5,2] 461.0num_plant[5,3] 572.0num_plant[5,4] 599.0num_plant[5,5] 705.0num_plant[5,6] 741.0num_plant[5,7] 842.0num_plant[5,8] 909.0num_plant[5,9] 1126.0num_plant[6,0] 141.0\n",
      "\n",
      "num_plant[6,1] 141.0num_plant[6,2] 141.0num_plant[6,3] 141.0num_plant[6,4] 141.0num_plant[6,5] 141.0num_plant[6,6] 141.0num_plant[6,7] 141.0num_plant[6,8] 141.0num_plant[6,9] 141.0\n"
     ]
    }
   ],
   "source": [
    "# For each solution, print value of first three variables, and\n",
    "# value for each objective function\n",
    "solutions = []\n",
    "objective = {\"carbon\":[],\"profit\":[]}\n",
    "for s in range(nSolutions):\n",
    "  # Set which solution we will query from now on\n",
    "  m.params.SolutionNumber = s\n",
    "\n",
    "  # Print objective value of this solution in each objective\n",
    "  print('Solution', s, ':', end='')\n",
    "  for o in range(nObjectives):\n",
    "    # Set which objective we will query\n",
    "    m.params.ObjNumber = o\n",
    "    # Query the o-th objective value\n",
    "    print(' ',m.ObjNVal, end='')\n",
    "    if o == 0:\n",
    "      objective['carbon'].append(m.ObjNVal)\n",
    "    else:\n",
    "      objective['profit'].append(m.ObjNVal)\n",
    "  columns= parameters.index\n",
    "  solution = {columns[i]:[] for i in range(len(columns))}\n",
    "  \n",
    "  # print first three variables in the solution\n",
    "  \n",
    "  n = min(len(x),70)\n",
    "  for j in range(n):\n",
    "    index = j // 10\n",
    "    solution[columns[index]].append(x[j].Xn)\n",
    "    print(x[j].VarName, x[j].Xn, end='')\n",
    "    if (j % 10 == 0):\n",
    "      print(\"\\n\")\n",
    "  print('')\n",
    "  solution_df = pd.DataFrame(data = solution, columns = parameters.index ,index=[str(x) for x in range(2021,2031)])\n",
    "  solution_df.to_excel(\"./solution{}.xlsx\".format(s))\n",
    "  objective_df = pd.DataFrame(data = objective)\n",
    "  objective_df.to_excel(\"./object.xlsx\")\n",
    "  objective_df.to_csv(\"./object.csv\")\n",
    "  # query the full vector of the o-th solution\n",
    "  solutions.append(m.getAttr('Xn',x))\n"
   ]
  }
 ],
 "metadata": {
  "kernelspec": {
   "display_name": "Python 3.9.12 ('base')",
   "language": "python",
   "name": "python3"
  },
  "language_info": {
   "codemirror_mode": {
    "name": "ipython",
    "version": 3
   },
   "file_extension": ".py",
   "mimetype": "text/x-python",
   "name": "python",
   "nbconvert_exporter": "python",
   "pygments_lexer": "ipython3",
   "version": "3.9.13"
  },
  "orig_nbformat": 4,
  "vscode": {
   "interpreter": {
    "hash": "16f5b46f222e2a3e8d4adbf7141cae37b71ed37616e60735fa5d1164a1bc3ada"
   }
  }
 },
 "nbformat": 4,
 "nbformat_minor": 2
}
